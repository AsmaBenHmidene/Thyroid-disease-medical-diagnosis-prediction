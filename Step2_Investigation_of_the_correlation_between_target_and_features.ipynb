{
  "nbformat": 4,
  "nbformat_minor": 0,
  "metadata": {
    "colab": {
      "provenance": [],
      "authorship_tag": "ABX9TyOH4jJ/HG1VgawoKx8NxQZe",
      "include_colab_link": true
    },
    "kernelspec": {
      "name": "python3",
      "display_name": "Python 3"
    },
    "language_info": {
      "name": "python"
    }
  },
  "cells": [
    {
      "cell_type": "markdown",
      "metadata": {
        "id": "view-in-github",
        "colab_type": "text"
      },
      "source": [
        "<a href=\"https://colab.research.google.com/github/AsmaBenHmidene/Thyroid-disease-medical-diagnosis-prediction/blob/main/Step2_Investigation_of_the_correlation_between_target_and_features.ipynb\" target=\"_parent\"><img src=\"https://colab.research.google.com/assets/colab-badge.svg\" alt=\"Open In Colab\"/></a>"
      ]
    },
    {
      "cell_type": "markdown",
      "source": [
        "##  hyperthyroidism medical diagnosis prediction:"
      ],
      "metadata": {
        "id": "-mRrLBtucSQL"
      }
    },
    {
      "cell_type": "markdown",
      "source": [
        "1. Source of data\n",
        "\n",
        "Thyroid Data - https://archive.ics.uci.edu/ml/datasets/thyroid+disease ,\n",
        "https://www.kaggle.com/datasets/emmanuelfwerr/thyroid-disease-data ,\n",
        "https://www.kaggle.com/datasets/emmanuelfwerr/thyroid-disease-data\n",
        "\n",
        "2. Brief description of data\n",
        "\n",
        "The datasets featured were created by reconciling thyroid disease datasets provided by the UCI Machine Learning Repository of patient background information and blood test results along with thyroid-related medical diagnosis\n",
        "\n",
        "3. What is the target?\n",
        "\n",
        "target - hyperthyroidism medical diagnosis (str).\n",
        "\n",
        "    A diagnosis \"-\" indicates no condition requiring comment.  A diagnosis of the\n",
        "    form \"X|Y\" is interpreted as \"consistent with X, but more likely Y\".  The\n",
        "    conditions are divided into groups where each group corresponds to a class of comments.\n",
        "\n",
        "Letter  Diagnosis\n",
        "    ------  ---------\n",
        "\n",
        "    hyperthyroid conditions:\n",
        "\n",
        "    A   hyperthyroid\n",
        "    B   T3 toxic\n",
        "    C   toxic goitre\n",
        "    D   secondary toxic\n",
        "\n",
        "    hypothyroid conditions:\n",
        "\n",
        "    E   hypothyroid\n",
        "    F   primary hypothyroid\n",
        "    G   compensated hypothyroid\n",
        "    H   secondary hypothyroid\n",
        "\n",
        "    binding protein:\n",
        "\n",
        "    I   increased binding protein\n",
        "    J   decreased binding protein\n",
        "\n",
        "    general health:\n",
        "\n",
        "    K   concurrent non-thyroidal illness\n",
        "\n",
        "    replacement therapy:\n",
        "\n",
        "    L   consistent with replacement therapy\n",
        "    M   underreplaced\n",
        "    N   overreplaced\n",
        "\n",
        "    antithyroid treatment:\n",
        "\n",
        "    O   antithyroid drugs\n",
        "    P   I131 treatment\n",
        "    Q   surgery\n",
        "\n",
        "    miscellaneous:\n",
        "\n",
        "    R   discordant assay results\n",
        "    S   elevated TBG\n",
        "    T   elevated thyroid hormones\n",
        "\n",
        "\n",
        "4. What does one row represent? (A person? A business? An event? A product?)\n",
        "\n",
        "a person\n",
        "\n",
        "5. Is this a classification or regression problem?\n",
        "\n",
        "classification problem.\n",
        "\n",
        "6. How many features does the data have?\n",
        "\n",
        "30 features.\n",
        "\n",
        "7. How many rows are in the dataset?\n",
        "\n",
        "9172 rows\n",
        "\n",
        "8. What, if any, challenges do you foresee in cleaning, exploring, or modeling this dataset?\n",
        "\n",
        "many missing values in multiple columns."
      ],
      "metadata": {
        "id": "-AhnTUiXONIL"
      }
    },
    {
      "cell_type": "code",
      "source": [
        "from google.colab import drive\n",
        "drive.mount('/content/drive')"
      ],
      "metadata": {
        "colab": {
          "base_uri": "https://localhost:8080/"
        },
        "id": "PlT3eqEsPzhJ",
        "outputId": "8898f064-55f2-44ac-857a-e6e367376260"
      },
      "execution_count": null,
      "outputs": [
        {
          "output_type": "stream",
          "name": "stdout",
          "text": [
            "Mounted at /content/drive\n"
          ]
        }
      ]
    },
    {
      "cell_type": "code",
      "source": [
        "#imports\n",
        "import pandas as pd\n",
        "import numpy as np\n",
        "import matplotlib.pyplot as plt\n",
        "import seaborn as sns\n",
        "pd.set_option('display.max_columns',100)\n",
        "\n",
        "\n",
        "# Set pandas as the default output for sklearn\n",
        "from sklearn import set_config\n",
        "set_config(transform_output='pandas')"
      ],
      "metadata": {
        "id": "BEsiMHnMPROR"
      },
      "execution_count": null,
      "outputs": []
    },
    {
      "cell_type": "code",
      "source": [
        "# Load data from file structure\n",
        "filename2 = '/content/drive/MyDrive/Coding Dojo/Project 2/project 2 multi classification/thyroidDF.csv'\n",
        "df = pd.read_csv(filename2)\n",
        "df.info()\n",
        "df.head()"
      ],
      "metadata": {
        "colab": {
          "base_uri": "https://localhost:8080/",
          "height": 886
        },
        "id": "trVFiu3hcgzn",
        "outputId": "fa70e1e5-e3dc-4752-e469-ca93ab169d1d"
      },
      "execution_count": null,
      "outputs": [
        {
          "output_type": "stream",
          "name": "stdout",
          "text": [
            "<class 'pandas.core.frame.DataFrame'>\n",
            "RangeIndex: 9172 entries, 0 to 9171\n",
            "Data columns (total 31 columns):\n",
            " #   Column               Non-Null Count  Dtype  \n",
            "---  ------               --------------  -----  \n",
            " 0   age                  9172 non-null   int64  \n",
            " 1   sex                  8865 non-null   object \n",
            " 2   on_thyroxine         9172 non-null   object \n",
            " 3   query_on_thyroxine   9172 non-null   object \n",
            " 4   on_antithyroid_meds  9172 non-null   object \n",
            " 5   sick                 9172 non-null   object \n",
            " 6   pregnant             9172 non-null   object \n",
            " 7   thyroid_surgery      9172 non-null   object \n",
            " 8   I131_treatment       9172 non-null   object \n",
            " 9   query_hypothyroid    9172 non-null   object \n",
            " 10  query_hyperthyroid   9172 non-null   object \n",
            " 11  lithium              9172 non-null   object \n",
            " 12  goitre               9172 non-null   object \n",
            " 13  tumor                9172 non-null   object \n",
            " 14  hypopituitary        9172 non-null   object \n",
            " 15  psych                9172 non-null   object \n",
            " 16  TSH_measured         9172 non-null   object \n",
            " 17  TSH                  8330 non-null   float64\n",
            " 18  T3_measured          9172 non-null   object \n",
            " 19  T3                   6568 non-null   float64\n",
            " 20  TT4_measured         9172 non-null   object \n",
            " 21  TT4                  8730 non-null   float64\n",
            " 22  T4U_measured         9172 non-null   object \n",
            " 23  T4U                  8363 non-null   float64\n",
            " 24  FTI_measured         9172 non-null   object \n",
            " 25  FTI                  8370 non-null   float64\n",
            " 26  TBG_measured         9172 non-null   object \n",
            " 27  TBG                  349 non-null    float64\n",
            " 28  referral_source      9172 non-null   object \n",
            " 29  target               9172 non-null   object \n",
            " 30  patient_id           9172 non-null   int64  \n",
            "dtypes: float64(6), int64(2), object(23)\n",
            "memory usage: 2.2+ MB\n"
          ]
        },
        {
          "output_type": "execute_result",
          "data": {
            "text/plain": [
              "   age sex on_thyroxine query_on_thyroxine on_antithyroid_meds sick pregnant  \\\n",
              "0   29   F            f                  f                   f    f        f   \n",
              "1   29   F            f                  f                   f    f        f   \n",
              "2   41   F            f                  f                   f    f        f   \n",
              "3   36   F            f                  f                   f    f        f   \n",
              "4   32   F            f                  f                   f    f        f   \n",
              "\n",
              "  thyroid_surgery I131_treatment query_hypothyroid query_hyperthyroid lithium  \\\n",
              "0               f              f                 t                  f       f   \n",
              "1               f              f                 f                  f       f   \n",
              "2               f              f                 f                  t       f   \n",
              "3               f              f                 f                  f       f   \n",
              "4               f              f                 f                  f       f   \n",
              "\n",
              "  goitre tumor hypopituitary psych TSH_measured  TSH T3_measured   T3  \\\n",
              "0      f     f             f     f            t  0.3           f  NaN   \n",
              "1      f     f             f     f            t  1.6           t  1.9   \n",
              "2      f     f             f     f            f  NaN           f  NaN   \n",
              "3      f     f             f     f            f  NaN           f  NaN   \n",
              "4      f     f             f     f            f  NaN           f  NaN   \n",
              "\n",
              "  TT4_measured    TT4 T4U_measured  T4U FTI_measured  FTI TBG_measured   TBG  \\\n",
              "0            f    NaN            f  NaN            f  NaN            f   NaN   \n",
              "1            t  128.0            f  NaN            f  NaN            f   NaN   \n",
              "2            f    NaN            f  NaN            f  NaN            t  11.0   \n",
              "3            f    NaN            f  NaN            f  NaN            t  26.0   \n",
              "4            f    NaN            f  NaN            f  NaN            t  36.0   \n",
              "\n",
              "  referral_source target  patient_id  \n",
              "0           other      -   840801013  \n",
              "1           other      -   840801014  \n",
              "2           other      -   840801042  \n",
              "3           other      -   840803046  \n",
              "4           other      S   840803047  "
            ],
            "text/html": [
              "\n",
              "  <div id=\"df-9bb59b58-3c26-44d8-aa33-fe0a38d6c651\" class=\"colab-df-container\">\n",
              "    <div>\n",
              "<style scoped>\n",
              "    .dataframe tbody tr th:only-of-type {\n",
              "        vertical-align: middle;\n",
              "    }\n",
              "\n",
              "    .dataframe tbody tr th {\n",
              "        vertical-align: top;\n",
              "    }\n",
              "\n",
              "    .dataframe thead th {\n",
              "        text-align: right;\n",
              "    }\n",
              "</style>\n",
              "<table border=\"1\" class=\"dataframe\">\n",
              "  <thead>\n",
              "    <tr style=\"text-align: right;\">\n",
              "      <th></th>\n",
              "      <th>age</th>\n",
              "      <th>sex</th>\n",
              "      <th>on_thyroxine</th>\n",
              "      <th>query_on_thyroxine</th>\n",
              "      <th>on_antithyroid_meds</th>\n",
              "      <th>sick</th>\n",
              "      <th>pregnant</th>\n",
              "      <th>thyroid_surgery</th>\n",
              "      <th>I131_treatment</th>\n",
              "      <th>query_hypothyroid</th>\n",
              "      <th>query_hyperthyroid</th>\n",
              "      <th>lithium</th>\n",
              "      <th>goitre</th>\n",
              "      <th>tumor</th>\n",
              "      <th>hypopituitary</th>\n",
              "      <th>psych</th>\n",
              "      <th>TSH_measured</th>\n",
              "      <th>TSH</th>\n",
              "      <th>T3_measured</th>\n",
              "      <th>T3</th>\n",
              "      <th>TT4_measured</th>\n",
              "      <th>TT4</th>\n",
              "      <th>T4U_measured</th>\n",
              "      <th>T4U</th>\n",
              "      <th>FTI_measured</th>\n",
              "      <th>FTI</th>\n",
              "      <th>TBG_measured</th>\n",
              "      <th>TBG</th>\n",
              "      <th>referral_source</th>\n",
              "      <th>target</th>\n",
              "      <th>patient_id</th>\n",
              "    </tr>\n",
              "  </thead>\n",
              "  <tbody>\n",
              "    <tr>\n",
              "      <th>0</th>\n",
              "      <td>29</td>\n",
              "      <td>F</td>\n",
              "      <td>f</td>\n",
              "      <td>f</td>\n",
              "      <td>f</td>\n",
              "      <td>f</td>\n",
              "      <td>f</td>\n",
              "      <td>f</td>\n",
              "      <td>f</td>\n",
              "      <td>t</td>\n",
              "      <td>f</td>\n",
              "      <td>f</td>\n",
              "      <td>f</td>\n",
              "      <td>f</td>\n",
              "      <td>f</td>\n",
              "      <td>f</td>\n",
              "      <td>t</td>\n",
              "      <td>0.3</td>\n",
              "      <td>f</td>\n",
              "      <td>NaN</td>\n",
              "      <td>f</td>\n",
              "      <td>NaN</td>\n",
              "      <td>f</td>\n",
              "      <td>NaN</td>\n",
              "      <td>f</td>\n",
              "      <td>NaN</td>\n",
              "      <td>f</td>\n",
              "      <td>NaN</td>\n",
              "      <td>other</td>\n",
              "      <td>-</td>\n",
              "      <td>840801013</td>\n",
              "    </tr>\n",
              "    <tr>\n",
              "      <th>1</th>\n",
              "      <td>29</td>\n",
              "      <td>F</td>\n",
              "      <td>f</td>\n",
              "      <td>f</td>\n",
              "      <td>f</td>\n",
              "      <td>f</td>\n",
              "      <td>f</td>\n",
              "      <td>f</td>\n",
              "      <td>f</td>\n",
              "      <td>f</td>\n",
              "      <td>f</td>\n",
              "      <td>f</td>\n",
              "      <td>f</td>\n",
              "      <td>f</td>\n",
              "      <td>f</td>\n",
              "      <td>f</td>\n",
              "      <td>t</td>\n",
              "      <td>1.6</td>\n",
              "      <td>t</td>\n",
              "      <td>1.9</td>\n",
              "      <td>t</td>\n",
              "      <td>128.0</td>\n",
              "      <td>f</td>\n",
              "      <td>NaN</td>\n",
              "      <td>f</td>\n",
              "      <td>NaN</td>\n",
              "      <td>f</td>\n",
              "      <td>NaN</td>\n",
              "      <td>other</td>\n",
              "      <td>-</td>\n",
              "      <td>840801014</td>\n",
              "    </tr>\n",
              "    <tr>\n",
              "      <th>2</th>\n",
              "      <td>41</td>\n",
              "      <td>F</td>\n",
              "      <td>f</td>\n",
              "      <td>f</td>\n",
              "      <td>f</td>\n",
              "      <td>f</td>\n",
              "      <td>f</td>\n",
              "      <td>f</td>\n",
              "      <td>f</td>\n",
              "      <td>f</td>\n",
              "      <td>t</td>\n",
              "      <td>f</td>\n",
              "      <td>f</td>\n",
              "      <td>f</td>\n",
              "      <td>f</td>\n",
              "      <td>f</td>\n",
              "      <td>f</td>\n",
              "      <td>NaN</td>\n",
              "      <td>f</td>\n",
              "      <td>NaN</td>\n",
              "      <td>f</td>\n",
              "      <td>NaN</td>\n",
              "      <td>f</td>\n",
              "      <td>NaN</td>\n",
              "      <td>f</td>\n",
              "      <td>NaN</td>\n",
              "      <td>t</td>\n",
              "      <td>11.0</td>\n",
              "      <td>other</td>\n",
              "      <td>-</td>\n",
              "      <td>840801042</td>\n",
              "    </tr>\n",
              "    <tr>\n",
              "      <th>3</th>\n",
              "      <td>36</td>\n",
              "      <td>F</td>\n",
              "      <td>f</td>\n",
              "      <td>f</td>\n",
              "      <td>f</td>\n",
              "      <td>f</td>\n",
              "      <td>f</td>\n",
              "      <td>f</td>\n",
              "      <td>f</td>\n",
              "      <td>f</td>\n",
              "      <td>f</td>\n",
              "      <td>f</td>\n",
              "      <td>f</td>\n",
              "      <td>f</td>\n",
              "      <td>f</td>\n",
              "      <td>f</td>\n",
              "      <td>f</td>\n",
              "      <td>NaN</td>\n",
              "      <td>f</td>\n",
              "      <td>NaN</td>\n",
              "      <td>f</td>\n",
              "      <td>NaN</td>\n",
              "      <td>f</td>\n",
              "      <td>NaN</td>\n",
              "      <td>f</td>\n",
              "      <td>NaN</td>\n",
              "      <td>t</td>\n",
              "      <td>26.0</td>\n",
              "      <td>other</td>\n",
              "      <td>-</td>\n",
              "      <td>840803046</td>\n",
              "    </tr>\n",
              "    <tr>\n",
              "      <th>4</th>\n",
              "      <td>32</td>\n",
              "      <td>F</td>\n",
              "      <td>f</td>\n",
              "      <td>f</td>\n",
              "      <td>f</td>\n",
              "      <td>f</td>\n",
              "      <td>f</td>\n",
              "      <td>f</td>\n",
              "      <td>f</td>\n",
              "      <td>f</td>\n",
              "      <td>f</td>\n",
              "      <td>f</td>\n",
              "      <td>f</td>\n",
              "      <td>f</td>\n",
              "      <td>f</td>\n",
              "      <td>f</td>\n",
              "      <td>f</td>\n",
              "      <td>NaN</td>\n",
              "      <td>f</td>\n",
              "      <td>NaN</td>\n",
              "      <td>f</td>\n",
              "      <td>NaN</td>\n",
              "      <td>f</td>\n",
              "      <td>NaN</td>\n",
              "      <td>f</td>\n",
              "      <td>NaN</td>\n",
              "      <td>t</td>\n",
              "      <td>36.0</td>\n",
              "      <td>other</td>\n",
              "      <td>S</td>\n",
              "      <td>840803047</td>\n",
              "    </tr>\n",
              "  </tbody>\n",
              "</table>\n",
              "</div>\n",
              "    <div class=\"colab-df-buttons\">\n",
              "\n",
              "  <div class=\"colab-df-container\">\n",
              "    <button class=\"colab-df-convert\" onclick=\"convertToInteractive('df-9bb59b58-3c26-44d8-aa33-fe0a38d6c651')\"\n",
              "            title=\"Convert this dataframe to an interactive table.\"\n",
              "            style=\"display:none;\">\n",
              "\n",
              "  <svg xmlns=\"http://www.w3.org/2000/svg\" height=\"24px\" viewBox=\"0 -960 960 960\">\n",
              "    <path d=\"M120-120v-720h720v720H120Zm60-500h600v-160H180v160Zm220 220h160v-160H400v160Zm0 220h160v-160H400v160ZM180-400h160v-160H180v160Zm440 0h160v-160H620v160ZM180-180h160v-160H180v160Zm440 0h160v-160H620v160Z\"/>\n",
              "  </svg>\n",
              "    </button>\n",
              "\n",
              "  <style>\n",
              "    .colab-df-container {\n",
              "      display:flex;\n",
              "      gap: 12px;\n",
              "    }\n",
              "\n",
              "    .colab-df-convert {\n",
              "      background-color: #E8F0FE;\n",
              "      border: none;\n",
              "      border-radius: 50%;\n",
              "      cursor: pointer;\n",
              "      display: none;\n",
              "      fill: #1967D2;\n",
              "      height: 32px;\n",
              "      padding: 0 0 0 0;\n",
              "      width: 32px;\n",
              "    }\n",
              "\n",
              "    .colab-df-convert:hover {\n",
              "      background-color: #E2EBFA;\n",
              "      box-shadow: 0px 1px 2px rgba(60, 64, 67, 0.3), 0px 1px 3px 1px rgba(60, 64, 67, 0.15);\n",
              "      fill: #174EA6;\n",
              "    }\n",
              "\n",
              "    .colab-df-buttons div {\n",
              "      margin-bottom: 4px;\n",
              "    }\n",
              "\n",
              "    [theme=dark] .colab-df-convert {\n",
              "      background-color: #3B4455;\n",
              "      fill: #D2E3FC;\n",
              "    }\n",
              "\n",
              "    [theme=dark] .colab-df-convert:hover {\n",
              "      background-color: #434B5C;\n",
              "      box-shadow: 0px 1px 3px 1px rgba(0, 0, 0, 0.15);\n",
              "      filter: drop-shadow(0px 1px 2px rgba(0, 0, 0, 0.3));\n",
              "      fill: #FFFFFF;\n",
              "    }\n",
              "  </style>\n",
              "\n",
              "    <script>\n",
              "      const buttonEl =\n",
              "        document.querySelector('#df-9bb59b58-3c26-44d8-aa33-fe0a38d6c651 button.colab-df-convert');\n",
              "      buttonEl.style.display =\n",
              "        google.colab.kernel.accessAllowed ? 'block' : 'none';\n",
              "\n",
              "      async function convertToInteractive(key) {\n",
              "        const element = document.querySelector('#df-9bb59b58-3c26-44d8-aa33-fe0a38d6c651');\n",
              "        const dataTable =\n",
              "          await google.colab.kernel.invokeFunction('convertToInteractive',\n",
              "                                                    [key], {});\n",
              "        if (!dataTable) return;\n",
              "\n",
              "        const docLinkHtml = 'Like what you see? Visit the ' +\n",
              "          '<a target=\"_blank\" href=https://colab.research.google.com/notebooks/data_table.ipynb>data table notebook</a>'\n",
              "          + ' to learn more about interactive tables.';\n",
              "        element.innerHTML = '';\n",
              "        dataTable['output_type'] = 'display_data';\n",
              "        await google.colab.output.renderOutput(dataTable, element);\n",
              "        const docLink = document.createElement('div');\n",
              "        docLink.innerHTML = docLinkHtml;\n",
              "        element.appendChild(docLink);\n",
              "      }\n",
              "    </script>\n",
              "  </div>\n",
              "\n",
              "\n",
              "<div id=\"df-c6bafce5-a14d-436f-88ac-b60cf69f003c\">\n",
              "  <button class=\"colab-df-quickchart\" onclick=\"quickchart('df-c6bafce5-a14d-436f-88ac-b60cf69f003c')\"\n",
              "            title=\"Suggest charts.\"\n",
              "            style=\"display:none;\">\n",
              "\n",
              "<svg xmlns=\"http://www.w3.org/2000/svg\" height=\"24px\"viewBox=\"0 0 24 24\"\n",
              "     width=\"24px\">\n",
              "    <g>\n",
              "        <path d=\"M19 3H5c-1.1 0-2 .9-2 2v14c0 1.1.9 2 2 2h14c1.1 0 2-.9 2-2V5c0-1.1-.9-2-2-2zM9 17H7v-7h2v7zm4 0h-2V7h2v10zm4 0h-2v-4h2v4z\"/>\n",
              "    </g>\n",
              "</svg>\n",
              "  </button>\n",
              "\n",
              "<style>\n",
              "  .colab-df-quickchart {\n",
              "      --bg-color: #E8F0FE;\n",
              "      --fill-color: #1967D2;\n",
              "      --hover-bg-color: #E2EBFA;\n",
              "      --hover-fill-color: #174EA6;\n",
              "      --disabled-fill-color: #AAA;\n",
              "      --disabled-bg-color: #DDD;\n",
              "  }\n",
              "\n",
              "  [theme=dark] .colab-df-quickchart {\n",
              "      --bg-color: #3B4455;\n",
              "      --fill-color: #D2E3FC;\n",
              "      --hover-bg-color: #434B5C;\n",
              "      --hover-fill-color: #FFFFFF;\n",
              "      --disabled-bg-color: #3B4455;\n",
              "      --disabled-fill-color: #666;\n",
              "  }\n",
              "\n",
              "  .colab-df-quickchart {\n",
              "    background-color: var(--bg-color);\n",
              "    border: none;\n",
              "    border-radius: 50%;\n",
              "    cursor: pointer;\n",
              "    display: none;\n",
              "    fill: var(--fill-color);\n",
              "    height: 32px;\n",
              "    padding: 0;\n",
              "    width: 32px;\n",
              "  }\n",
              "\n",
              "  .colab-df-quickchart:hover {\n",
              "    background-color: var(--hover-bg-color);\n",
              "    box-shadow: 0 1px 2px rgba(60, 64, 67, 0.3), 0 1px 3px 1px rgba(60, 64, 67, 0.15);\n",
              "    fill: var(--button-hover-fill-color);\n",
              "  }\n",
              "\n",
              "  .colab-df-quickchart-complete:disabled,\n",
              "  .colab-df-quickchart-complete:disabled:hover {\n",
              "    background-color: var(--disabled-bg-color);\n",
              "    fill: var(--disabled-fill-color);\n",
              "    box-shadow: none;\n",
              "  }\n",
              "\n",
              "  .colab-df-spinner {\n",
              "    border: 2px solid var(--fill-color);\n",
              "    border-color: transparent;\n",
              "    border-bottom-color: var(--fill-color);\n",
              "    animation:\n",
              "      spin 1s steps(1) infinite;\n",
              "  }\n",
              "\n",
              "  @keyframes spin {\n",
              "    0% {\n",
              "      border-color: transparent;\n",
              "      border-bottom-color: var(--fill-color);\n",
              "      border-left-color: var(--fill-color);\n",
              "    }\n",
              "    20% {\n",
              "      border-color: transparent;\n",
              "      border-left-color: var(--fill-color);\n",
              "      border-top-color: var(--fill-color);\n",
              "    }\n",
              "    30% {\n",
              "      border-color: transparent;\n",
              "      border-left-color: var(--fill-color);\n",
              "      border-top-color: var(--fill-color);\n",
              "      border-right-color: var(--fill-color);\n",
              "    }\n",
              "    40% {\n",
              "      border-color: transparent;\n",
              "      border-right-color: var(--fill-color);\n",
              "      border-top-color: var(--fill-color);\n",
              "    }\n",
              "    60% {\n",
              "      border-color: transparent;\n",
              "      border-right-color: var(--fill-color);\n",
              "    }\n",
              "    80% {\n",
              "      border-color: transparent;\n",
              "      border-right-color: var(--fill-color);\n",
              "      border-bottom-color: var(--fill-color);\n",
              "    }\n",
              "    90% {\n",
              "      border-color: transparent;\n",
              "      border-bottom-color: var(--fill-color);\n",
              "    }\n",
              "  }\n",
              "</style>\n",
              "\n",
              "  <script>\n",
              "    async function quickchart(key) {\n",
              "      const quickchartButtonEl =\n",
              "        document.querySelector('#' + key + ' button');\n",
              "      quickchartButtonEl.disabled = true;  // To prevent multiple clicks.\n",
              "      quickchartButtonEl.classList.add('colab-df-spinner');\n",
              "      try {\n",
              "        const charts = await google.colab.kernel.invokeFunction(\n",
              "            'suggestCharts', [key], {});\n",
              "      } catch (error) {\n",
              "        console.error('Error during call to suggestCharts:', error);\n",
              "      }\n",
              "      quickchartButtonEl.classList.remove('colab-df-spinner');\n",
              "      quickchartButtonEl.classList.add('colab-df-quickchart-complete');\n",
              "    }\n",
              "    (() => {\n",
              "      let quickchartButtonEl =\n",
              "        document.querySelector('#df-c6bafce5-a14d-436f-88ac-b60cf69f003c button');\n",
              "      quickchartButtonEl.style.display =\n",
              "        google.colab.kernel.accessAllowed ? 'block' : 'none';\n",
              "    })();\n",
              "  </script>\n",
              "</div>\n",
              "    </div>\n",
              "  </div>\n"
            ]
          },
          "metadata": {},
          "execution_count": 3
        }
      ]
    },
    {
      "cell_type": "markdown",
      "source": [
        "# cleaning:"
      ],
      "metadata": {
        "id": "WtHp9uTAPX-H"
      }
    },
    {
      "cell_type": "markdown",
      "source": [
        "drop no needed column:"
      ],
      "metadata": {
        "id": "fX0xMx9ERHsL"
      }
    },
    {
      "cell_type": "code",
      "source": [
        "df.drop(['TSH_measured', 'T3_measured', 'TT4_measured', 'T4U_measured', 'FTI_measured', 'TBG_measured', 'patient_id', 'referral_source'], axis=1, inplace=True)\n",
        "df.head()"
      ],
      "metadata": {
        "colab": {
          "base_uri": "https://localhost:8080/",
          "height": 226
        },
        "id": "RQBnkXFqRNN1",
        "outputId": "085e21ec-a67c-4b82-b5e3-4e576189e197"
      },
      "execution_count": null,
      "outputs": [
        {
          "output_type": "execute_result",
          "data": {
            "text/plain": [
              "   age sex on_thyroxine query_on_thyroxine on_antithyroid_meds sick pregnant  \\\n",
              "0   29   F            f                  f                   f    f        f   \n",
              "1   29   F            f                  f                   f    f        f   \n",
              "2   41   F            f                  f                   f    f        f   \n",
              "3   36   F            f                  f                   f    f        f   \n",
              "4   32   F            f                  f                   f    f        f   \n",
              "\n",
              "  thyroid_surgery I131_treatment query_hypothyroid query_hyperthyroid lithium  \\\n",
              "0               f              f                 t                  f       f   \n",
              "1               f              f                 f                  f       f   \n",
              "2               f              f                 f                  t       f   \n",
              "3               f              f                 f                  f       f   \n",
              "4               f              f                 f                  f       f   \n",
              "\n",
              "  goitre tumor hypopituitary psych  TSH   T3    TT4  T4U  FTI   TBG target  \n",
              "0      f     f             f     f  0.3  NaN    NaN  NaN  NaN   NaN      -  \n",
              "1      f     f             f     f  1.6  1.9  128.0  NaN  NaN   NaN      -  \n",
              "2      f     f             f     f  NaN  NaN    NaN  NaN  NaN  11.0      -  \n",
              "3      f     f             f     f  NaN  NaN    NaN  NaN  NaN  26.0      -  \n",
              "4      f     f             f     f  NaN  NaN    NaN  NaN  NaN  36.0      S  "
            ],
            "text/html": [
              "\n",
              "  <div id=\"df-25096a4d-8008-48d3-a00a-2b186476af43\" class=\"colab-df-container\">\n",
              "    <div>\n",
              "<style scoped>\n",
              "    .dataframe tbody tr th:only-of-type {\n",
              "        vertical-align: middle;\n",
              "    }\n",
              "\n",
              "    .dataframe tbody tr th {\n",
              "        vertical-align: top;\n",
              "    }\n",
              "\n",
              "    .dataframe thead th {\n",
              "        text-align: right;\n",
              "    }\n",
              "</style>\n",
              "<table border=\"1\" class=\"dataframe\">\n",
              "  <thead>\n",
              "    <tr style=\"text-align: right;\">\n",
              "      <th></th>\n",
              "      <th>age</th>\n",
              "      <th>sex</th>\n",
              "      <th>on_thyroxine</th>\n",
              "      <th>query_on_thyroxine</th>\n",
              "      <th>on_antithyroid_meds</th>\n",
              "      <th>sick</th>\n",
              "      <th>pregnant</th>\n",
              "      <th>thyroid_surgery</th>\n",
              "      <th>I131_treatment</th>\n",
              "      <th>query_hypothyroid</th>\n",
              "      <th>query_hyperthyroid</th>\n",
              "      <th>lithium</th>\n",
              "      <th>goitre</th>\n",
              "      <th>tumor</th>\n",
              "      <th>hypopituitary</th>\n",
              "      <th>psych</th>\n",
              "      <th>TSH</th>\n",
              "      <th>T3</th>\n",
              "      <th>TT4</th>\n",
              "      <th>T4U</th>\n",
              "      <th>FTI</th>\n",
              "      <th>TBG</th>\n",
              "      <th>target</th>\n",
              "    </tr>\n",
              "  </thead>\n",
              "  <tbody>\n",
              "    <tr>\n",
              "      <th>0</th>\n",
              "      <td>29</td>\n",
              "      <td>F</td>\n",
              "      <td>f</td>\n",
              "      <td>f</td>\n",
              "      <td>f</td>\n",
              "      <td>f</td>\n",
              "      <td>f</td>\n",
              "      <td>f</td>\n",
              "      <td>f</td>\n",
              "      <td>t</td>\n",
              "      <td>f</td>\n",
              "      <td>f</td>\n",
              "      <td>f</td>\n",
              "      <td>f</td>\n",
              "      <td>f</td>\n",
              "      <td>f</td>\n",
              "      <td>0.3</td>\n",
              "      <td>NaN</td>\n",
              "      <td>NaN</td>\n",
              "      <td>NaN</td>\n",
              "      <td>NaN</td>\n",
              "      <td>NaN</td>\n",
              "      <td>-</td>\n",
              "    </tr>\n",
              "    <tr>\n",
              "      <th>1</th>\n",
              "      <td>29</td>\n",
              "      <td>F</td>\n",
              "      <td>f</td>\n",
              "      <td>f</td>\n",
              "      <td>f</td>\n",
              "      <td>f</td>\n",
              "      <td>f</td>\n",
              "      <td>f</td>\n",
              "      <td>f</td>\n",
              "      <td>f</td>\n",
              "      <td>f</td>\n",
              "      <td>f</td>\n",
              "      <td>f</td>\n",
              "      <td>f</td>\n",
              "      <td>f</td>\n",
              "      <td>f</td>\n",
              "      <td>1.6</td>\n",
              "      <td>1.9</td>\n",
              "      <td>128.0</td>\n",
              "      <td>NaN</td>\n",
              "      <td>NaN</td>\n",
              "      <td>NaN</td>\n",
              "      <td>-</td>\n",
              "    </tr>\n",
              "    <tr>\n",
              "      <th>2</th>\n",
              "      <td>41</td>\n",
              "      <td>F</td>\n",
              "      <td>f</td>\n",
              "      <td>f</td>\n",
              "      <td>f</td>\n",
              "      <td>f</td>\n",
              "      <td>f</td>\n",
              "      <td>f</td>\n",
              "      <td>f</td>\n",
              "      <td>f</td>\n",
              "      <td>t</td>\n",
              "      <td>f</td>\n",
              "      <td>f</td>\n",
              "      <td>f</td>\n",
              "      <td>f</td>\n",
              "      <td>f</td>\n",
              "      <td>NaN</td>\n",
              "      <td>NaN</td>\n",
              "      <td>NaN</td>\n",
              "      <td>NaN</td>\n",
              "      <td>NaN</td>\n",
              "      <td>11.0</td>\n",
              "      <td>-</td>\n",
              "    </tr>\n",
              "    <tr>\n",
              "      <th>3</th>\n",
              "      <td>36</td>\n",
              "      <td>F</td>\n",
              "      <td>f</td>\n",
              "      <td>f</td>\n",
              "      <td>f</td>\n",
              "      <td>f</td>\n",
              "      <td>f</td>\n",
              "      <td>f</td>\n",
              "      <td>f</td>\n",
              "      <td>f</td>\n",
              "      <td>f</td>\n",
              "      <td>f</td>\n",
              "      <td>f</td>\n",
              "      <td>f</td>\n",
              "      <td>f</td>\n",
              "      <td>f</td>\n",
              "      <td>NaN</td>\n",
              "      <td>NaN</td>\n",
              "      <td>NaN</td>\n",
              "      <td>NaN</td>\n",
              "      <td>NaN</td>\n",
              "      <td>26.0</td>\n",
              "      <td>-</td>\n",
              "    </tr>\n",
              "    <tr>\n",
              "      <th>4</th>\n",
              "      <td>32</td>\n",
              "      <td>F</td>\n",
              "      <td>f</td>\n",
              "      <td>f</td>\n",
              "      <td>f</td>\n",
              "      <td>f</td>\n",
              "      <td>f</td>\n",
              "      <td>f</td>\n",
              "      <td>f</td>\n",
              "      <td>f</td>\n",
              "      <td>f</td>\n",
              "      <td>f</td>\n",
              "      <td>f</td>\n",
              "      <td>f</td>\n",
              "      <td>f</td>\n",
              "      <td>f</td>\n",
              "      <td>NaN</td>\n",
              "      <td>NaN</td>\n",
              "      <td>NaN</td>\n",
              "      <td>NaN</td>\n",
              "      <td>NaN</td>\n",
              "      <td>36.0</td>\n",
              "      <td>S</td>\n",
              "    </tr>\n",
              "  </tbody>\n",
              "</table>\n",
              "</div>\n",
              "    <div class=\"colab-df-buttons\">\n",
              "\n",
              "  <div class=\"colab-df-container\">\n",
              "    <button class=\"colab-df-convert\" onclick=\"convertToInteractive('df-25096a4d-8008-48d3-a00a-2b186476af43')\"\n",
              "            title=\"Convert this dataframe to an interactive table.\"\n",
              "            style=\"display:none;\">\n",
              "\n",
              "  <svg xmlns=\"http://www.w3.org/2000/svg\" height=\"24px\" viewBox=\"0 -960 960 960\">\n",
              "    <path d=\"M120-120v-720h720v720H120Zm60-500h600v-160H180v160Zm220 220h160v-160H400v160Zm0 220h160v-160H400v160ZM180-400h160v-160H180v160Zm440 0h160v-160H620v160ZM180-180h160v-160H180v160Zm440 0h160v-160H620v160Z\"/>\n",
              "  </svg>\n",
              "    </button>\n",
              "\n",
              "  <style>\n",
              "    .colab-df-container {\n",
              "      display:flex;\n",
              "      gap: 12px;\n",
              "    }\n",
              "\n",
              "    .colab-df-convert {\n",
              "      background-color: #E8F0FE;\n",
              "      border: none;\n",
              "      border-radius: 50%;\n",
              "      cursor: pointer;\n",
              "      display: none;\n",
              "      fill: #1967D2;\n",
              "      height: 32px;\n",
              "      padding: 0 0 0 0;\n",
              "      width: 32px;\n",
              "    }\n",
              "\n",
              "    .colab-df-convert:hover {\n",
              "      background-color: #E2EBFA;\n",
              "      box-shadow: 0px 1px 2px rgba(60, 64, 67, 0.3), 0px 1px 3px 1px rgba(60, 64, 67, 0.15);\n",
              "      fill: #174EA6;\n",
              "    }\n",
              "\n",
              "    .colab-df-buttons div {\n",
              "      margin-bottom: 4px;\n",
              "    }\n",
              "\n",
              "    [theme=dark] .colab-df-convert {\n",
              "      background-color: #3B4455;\n",
              "      fill: #D2E3FC;\n",
              "    }\n",
              "\n",
              "    [theme=dark] .colab-df-convert:hover {\n",
              "      background-color: #434B5C;\n",
              "      box-shadow: 0px 1px 3px 1px rgba(0, 0, 0, 0.15);\n",
              "      filter: drop-shadow(0px 1px 2px rgba(0, 0, 0, 0.3));\n",
              "      fill: #FFFFFF;\n",
              "    }\n",
              "  </style>\n",
              "\n",
              "    <script>\n",
              "      const buttonEl =\n",
              "        document.querySelector('#df-25096a4d-8008-48d3-a00a-2b186476af43 button.colab-df-convert');\n",
              "      buttonEl.style.display =\n",
              "        google.colab.kernel.accessAllowed ? 'block' : 'none';\n",
              "\n",
              "      async function convertToInteractive(key) {\n",
              "        const element = document.querySelector('#df-25096a4d-8008-48d3-a00a-2b186476af43');\n",
              "        const dataTable =\n",
              "          await google.colab.kernel.invokeFunction('convertToInteractive',\n",
              "                                                    [key], {});\n",
              "        if (!dataTable) return;\n",
              "\n",
              "        const docLinkHtml = 'Like what you see? Visit the ' +\n",
              "          '<a target=\"_blank\" href=https://colab.research.google.com/notebooks/data_table.ipynb>data table notebook</a>'\n",
              "          + ' to learn more about interactive tables.';\n",
              "        element.innerHTML = '';\n",
              "        dataTable['output_type'] = 'display_data';\n",
              "        await google.colab.output.renderOutput(dataTable, element);\n",
              "        const docLink = document.createElement('div');\n",
              "        docLink.innerHTML = docLinkHtml;\n",
              "        element.appendChild(docLink);\n",
              "      }\n",
              "    </script>\n",
              "  </div>\n",
              "\n",
              "\n",
              "<div id=\"df-2b319b7b-cf9b-460c-868a-be193b894ec8\">\n",
              "  <button class=\"colab-df-quickchart\" onclick=\"quickchart('df-2b319b7b-cf9b-460c-868a-be193b894ec8')\"\n",
              "            title=\"Suggest charts.\"\n",
              "            style=\"display:none;\">\n",
              "\n",
              "<svg xmlns=\"http://www.w3.org/2000/svg\" height=\"24px\"viewBox=\"0 0 24 24\"\n",
              "     width=\"24px\">\n",
              "    <g>\n",
              "        <path d=\"M19 3H5c-1.1 0-2 .9-2 2v14c0 1.1.9 2 2 2h14c1.1 0 2-.9 2-2V5c0-1.1-.9-2-2-2zM9 17H7v-7h2v7zm4 0h-2V7h2v10zm4 0h-2v-4h2v4z\"/>\n",
              "    </g>\n",
              "</svg>\n",
              "  </button>\n",
              "\n",
              "<style>\n",
              "  .colab-df-quickchart {\n",
              "      --bg-color: #E8F0FE;\n",
              "      --fill-color: #1967D2;\n",
              "      --hover-bg-color: #E2EBFA;\n",
              "      --hover-fill-color: #174EA6;\n",
              "      --disabled-fill-color: #AAA;\n",
              "      --disabled-bg-color: #DDD;\n",
              "  }\n",
              "\n",
              "  [theme=dark] .colab-df-quickchart {\n",
              "      --bg-color: #3B4455;\n",
              "      --fill-color: #D2E3FC;\n",
              "      --hover-bg-color: #434B5C;\n",
              "      --hover-fill-color: #FFFFFF;\n",
              "      --disabled-bg-color: #3B4455;\n",
              "      --disabled-fill-color: #666;\n",
              "  }\n",
              "\n",
              "  .colab-df-quickchart {\n",
              "    background-color: var(--bg-color);\n",
              "    border: none;\n",
              "    border-radius: 50%;\n",
              "    cursor: pointer;\n",
              "    display: none;\n",
              "    fill: var(--fill-color);\n",
              "    height: 32px;\n",
              "    padding: 0;\n",
              "    width: 32px;\n",
              "  }\n",
              "\n",
              "  .colab-df-quickchart:hover {\n",
              "    background-color: var(--hover-bg-color);\n",
              "    box-shadow: 0 1px 2px rgba(60, 64, 67, 0.3), 0 1px 3px 1px rgba(60, 64, 67, 0.15);\n",
              "    fill: var(--button-hover-fill-color);\n",
              "  }\n",
              "\n",
              "  .colab-df-quickchart-complete:disabled,\n",
              "  .colab-df-quickchart-complete:disabled:hover {\n",
              "    background-color: var(--disabled-bg-color);\n",
              "    fill: var(--disabled-fill-color);\n",
              "    box-shadow: none;\n",
              "  }\n",
              "\n",
              "  .colab-df-spinner {\n",
              "    border: 2px solid var(--fill-color);\n",
              "    border-color: transparent;\n",
              "    border-bottom-color: var(--fill-color);\n",
              "    animation:\n",
              "      spin 1s steps(1) infinite;\n",
              "  }\n",
              "\n",
              "  @keyframes spin {\n",
              "    0% {\n",
              "      border-color: transparent;\n",
              "      border-bottom-color: var(--fill-color);\n",
              "      border-left-color: var(--fill-color);\n",
              "    }\n",
              "    20% {\n",
              "      border-color: transparent;\n",
              "      border-left-color: var(--fill-color);\n",
              "      border-top-color: var(--fill-color);\n",
              "    }\n",
              "    30% {\n",
              "      border-color: transparent;\n",
              "      border-left-color: var(--fill-color);\n",
              "      border-top-color: var(--fill-color);\n",
              "      border-right-color: var(--fill-color);\n",
              "    }\n",
              "    40% {\n",
              "      border-color: transparent;\n",
              "      border-right-color: var(--fill-color);\n",
              "      border-top-color: var(--fill-color);\n",
              "    }\n",
              "    60% {\n",
              "      border-color: transparent;\n",
              "      border-right-color: var(--fill-color);\n",
              "    }\n",
              "    80% {\n",
              "      border-color: transparent;\n",
              "      border-right-color: var(--fill-color);\n",
              "      border-bottom-color: var(--fill-color);\n",
              "    }\n",
              "    90% {\n",
              "      border-color: transparent;\n",
              "      border-bottom-color: var(--fill-color);\n",
              "    }\n",
              "  }\n",
              "</style>\n",
              "\n",
              "  <script>\n",
              "    async function quickchart(key) {\n",
              "      const quickchartButtonEl =\n",
              "        document.querySelector('#' + key + ' button');\n",
              "      quickchartButtonEl.disabled = true;  // To prevent multiple clicks.\n",
              "      quickchartButtonEl.classList.add('colab-df-spinner');\n",
              "      try {\n",
              "        const charts = await google.colab.kernel.invokeFunction(\n",
              "            'suggestCharts', [key], {});\n",
              "      } catch (error) {\n",
              "        console.error('Error during call to suggestCharts:', error);\n",
              "      }\n",
              "      quickchartButtonEl.classList.remove('colab-df-spinner');\n",
              "      quickchartButtonEl.classList.add('colab-df-quickchart-complete');\n",
              "    }\n",
              "    (() => {\n",
              "      let quickchartButtonEl =\n",
              "        document.querySelector('#df-2b319b7b-cf9b-460c-868a-be193b894ec8 button');\n",
              "      quickchartButtonEl.style.display =\n",
              "        google.colab.kernel.accessAllowed ? 'block' : 'none';\n",
              "    })();\n",
              "  </script>\n",
              "</div>\n",
              "    </div>\n",
              "  </div>\n"
            ]
          },
          "metadata": {},
          "execution_count": 4
        }
      ]
    },
    {
      "cell_type": "markdown",
      "source": [
        "1. duplicates:"
      ],
      "metadata": {
        "id": "xSGwR6DoPbza"
      }
    },
    {
      "cell_type": "code",
      "source": [
        "df.duplicated().sum()"
      ],
      "metadata": {
        "colab": {
          "base_uri": "https://localhost:8080/"
        },
        "id": "LBPDbGhvPbHa",
        "outputId": "160e3fd8-5e35-422a-dae1-d266c193de6a"
      },
      "execution_count": null,
      "outputs": [
        {
          "output_type": "execute_result",
          "data": {
            "text/plain": [
              "10"
            ]
          },
          "metadata": {},
          "execution_count": 5
        }
      ]
    },
    {
      "cell_type": "code",
      "source": [
        "df = df.drop_duplicates()\n",
        "df.duplicated().sum()"
      ],
      "metadata": {
        "colab": {
          "base_uri": "https://localhost:8080/"
        },
        "id": "-67jD2ym7Oj1",
        "outputId": "ee933fa0-ef7c-4607-b5ce-ea61afd0f004"
      },
      "execution_count": null,
      "outputs": [
        {
          "output_type": "execute_result",
          "data": {
            "text/plain": [
              "0"
            ]
          },
          "metadata": {},
          "execution_count": 6
        }
      ]
    },
    {
      "cell_type": "markdown",
      "source": [
        "2. data types:"
      ],
      "metadata": {
        "id": "DE9bRezeQsD8"
      }
    },
    {
      "cell_type": "code",
      "source": [
        "df.dtypes"
      ],
      "metadata": {
        "colab": {
          "base_uri": "https://localhost:8080/"
        },
        "id": "EezAfMdrQrfS",
        "outputId": "863884ac-4ab9-4afe-d66a-8472ccac4680"
      },
      "execution_count": null,
      "outputs": [
        {
          "output_type": "execute_result",
          "data": {
            "text/plain": [
              "age                      int64\n",
              "sex                     object\n",
              "on_thyroxine            object\n",
              "query_on_thyroxine      object\n",
              "on_antithyroid_meds     object\n",
              "sick                    object\n",
              "pregnant                object\n",
              "thyroid_surgery         object\n",
              "I131_treatment          object\n",
              "query_hypothyroid       object\n",
              "query_hyperthyroid      object\n",
              "lithium                 object\n",
              "goitre                  object\n",
              "tumor                   object\n",
              "hypopituitary           object\n",
              "psych                   object\n",
              "TSH                    float64\n",
              "T3                     float64\n",
              "TT4                    float64\n",
              "T4U                    float64\n",
              "FTI                    float64\n",
              "TBG                    float64\n",
              "target                  object\n",
              "dtype: object"
            ]
          },
          "metadata": {},
          "execution_count": 7
        }
      ]
    },
    {
      "cell_type": "markdown",
      "source": [
        "3. Impossible values in numeric columns:"
      ],
      "metadata": {
        "id": "dtEqxUXzRfqN"
      }
    },
    {
      "cell_type": "code",
      "source": [
        "df.select_dtypes('number').describe()"
      ],
      "metadata": {
        "colab": {
          "base_uri": "https://localhost:8080/",
          "height": 300
        },
        "id": "-W-Wftw0RstJ",
        "outputId": "2b5e5798-2714-4c89-b59a-935df1904f92"
      },
      "execution_count": null,
      "outputs": [
        {
          "output_type": "execute_result",
          "data": {
            "text/plain": [
              "                age          TSH           T3          TT4          T4U  \\\n",
              "count   9162.000000  8328.000000  6566.000000  8728.000000  8361.000000   \n",
              "mean      73.581205     5.219434     1.970650   108.704017     0.976067   \n",
              "std     1184.622352    24.186817     0.887711    37.525337     0.200377   \n",
              "min        1.000000     0.005000     0.050000     2.000000     0.170000   \n",
              "25%       37.000000     0.460000     1.500000    87.000000     0.860000   \n",
              "50%       55.000000     1.400000     1.900000   104.000000     0.960000   \n",
              "75%       68.000000     2.700000     2.300000   126.000000     1.070000   \n",
              "max    65526.000000   530.000000    18.000000   600.000000     2.330000   \n",
              "\n",
              "               FTI         TBG  \n",
              "count  8368.000000  341.000000  \n",
              "mean    113.643528   29.978446  \n",
              "std      41.553807   21.304559  \n",
              "min       1.400000    0.100000  \n",
              "25%      93.000000   21.000000  \n",
              "50%     109.000000   26.000000  \n",
              "75%     128.000000   31.000000  \n",
              "max     881.000000  200.000000  "
            ],
            "text/html": [
              "\n",
              "  <div id=\"df-119684b5-bc12-43c5-a8c8-5d794a78dd6b\" class=\"colab-df-container\">\n",
              "    <div>\n",
              "<style scoped>\n",
              "    .dataframe tbody tr th:only-of-type {\n",
              "        vertical-align: middle;\n",
              "    }\n",
              "\n",
              "    .dataframe tbody tr th {\n",
              "        vertical-align: top;\n",
              "    }\n",
              "\n",
              "    .dataframe thead th {\n",
              "        text-align: right;\n",
              "    }\n",
              "</style>\n",
              "<table border=\"1\" class=\"dataframe\">\n",
              "  <thead>\n",
              "    <tr style=\"text-align: right;\">\n",
              "      <th></th>\n",
              "      <th>age</th>\n",
              "      <th>TSH</th>\n",
              "      <th>T3</th>\n",
              "      <th>TT4</th>\n",
              "      <th>T4U</th>\n",
              "      <th>FTI</th>\n",
              "      <th>TBG</th>\n",
              "    </tr>\n",
              "  </thead>\n",
              "  <tbody>\n",
              "    <tr>\n",
              "      <th>count</th>\n",
              "      <td>9162.000000</td>\n",
              "      <td>8328.000000</td>\n",
              "      <td>6566.000000</td>\n",
              "      <td>8728.000000</td>\n",
              "      <td>8361.000000</td>\n",
              "      <td>8368.000000</td>\n",
              "      <td>341.000000</td>\n",
              "    </tr>\n",
              "    <tr>\n",
              "      <th>mean</th>\n",
              "      <td>73.581205</td>\n",
              "      <td>5.219434</td>\n",
              "      <td>1.970650</td>\n",
              "      <td>108.704017</td>\n",
              "      <td>0.976067</td>\n",
              "      <td>113.643528</td>\n",
              "      <td>29.978446</td>\n",
              "    </tr>\n",
              "    <tr>\n",
              "      <th>std</th>\n",
              "      <td>1184.622352</td>\n",
              "      <td>24.186817</td>\n",
              "      <td>0.887711</td>\n",
              "      <td>37.525337</td>\n",
              "      <td>0.200377</td>\n",
              "      <td>41.553807</td>\n",
              "      <td>21.304559</td>\n",
              "    </tr>\n",
              "    <tr>\n",
              "      <th>min</th>\n",
              "      <td>1.000000</td>\n",
              "      <td>0.005000</td>\n",
              "      <td>0.050000</td>\n",
              "      <td>2.000000</td>\n",
              "      <td>0.170000</td>\n",
              "      <td>1.400000</td>\n",
              "      <td>0.100000</td>\n",
              "    </tr>\n",
              "    <tr>\n",
              "      <th>25%</th>\n",
              "      <td>37.000000</td>\n",
              "      <td>0.460000</td>\n",
              "      <td>1.500000</td>\n",
              "      <td>87.000000</td>\n",
              "      <td>0.860000</td>\n",
              "      <td>93.000000</td>\n",
              "      <td>21.000000</td>\n",
              "    </tr>\n",
              "    <tr>\n",
              "      <th>50%</th>\n",
              "      <td>55.000000</td>\n",
              "      <td>1.400000</td>\n",
              "      <td>1.900000</td>\n",
              "      <td>104.000000</td>\n",
              "      <td>0.960000</td>\n",
              "      <td>109.000000</td>\n",
              "      <td>26.000000</td>\n",
              "    </tr>\n",
              "    <tr>\n",
              "      <th>75%</th>\n",
              "      <td>68.000000</td>\n",
              "      <td>2.700000</td>\n",
              "      <td>2.300000</td>\n",
              "      <td>126.000000</td>\n",
              "      <td>1.070000</td>\n",
              "      <td>128.000000</td>\n",
              "      <td>31.000000</td>\n",
              "    </tr>\n",
              "    <tr>\n",
              "      <th>max</th>\n",
              "      <td>65526.000000</td>\n",
              "      <td>530.000000</td>\n",
              "      <td>18.000000</td>\n",
              "      <td>600.000000</td>\n",
              "      <td>2.330000</td>\n",
              "      <td>881.000000</td>\n",
              "      <td>200.000000</td>\n",
              "    </tr>\n",
              "  </tbody>\n",
              "</table>\n",
              "</div>\n",
              "    <div class=\"colab-df-buttons\">\n",
              "\n",
              "  <div class=\"colab-df-container\">\n",
              "    <button class=\"colab-df-convert\" onclick=\"convertToInteractive('df-119684b5-bc12-43c5-a8c8-5d794a78dd6b')\"\n",
              "            title=\"Convert this dataframe to an interactive table.\"\n",
              "            style=\"display:none;\">\n",
              "\n",
              "  <svg xmlns=\"http://www.w3.org/2000/svg\" height=\"24px\" viewBox=\"0 -960 960 960\">\n",
              "    <path d=\"M120-120v-720h720v720H120Zm60-500h600v-160H180v160Zm220 220h160v-160H400v160Zm0 220h160v-160H400v160ZM180-400h160v-160H180v160Zm440 0h160v-160H620v160ZM180-180h160v-160H180v160Zm440 0h160v-160H620v160Z\"/>\n",
              "  </svg>\n",
              "    </button>\n",
              "\n",
              "  <style>\n",
              "    .colab-df-container {\n",
              "      display:flex;\n",
              "      gap: 12px;\n",
              "    }\n",
              "\n",
              "    .colab-df-convert {\n",
              "      background-color: #E8F0FE;\n",
              "      border: none;\n",
              "      border-radius: 50%;\n",
              "      cursor: pointer;\n",
              "      display: none;\n",
              "      fill: #1967D2;\n",
              "      height: 32px;\n",
              "      padding: 0 0 0 0;\n",
              "      width: 32px;\n",
              "    }\n",
              "\n",
              "    .colab-df-convert:hover {\n",
              "      background-color: #E2EBFA;\n",
              "      box-shadow: 0px 1px 2px rgba(60, 64, 67, 0.3), 0px 1px 3px 1px rgba(60, 64, 67, 0.15);\n",
              "      fill: #174EA6;\n",
              "    }\n",
              "\n",
              "    .colab-df-buttons div {\n",
              "      margin-bottom: 4px;\n",
              "    }\n",
              "\n",
              "    [theme=dark] .colab-df-convert {\n",
              "      background-color: #3B4455;\n",
              "      fill: #D2E3FC;\n",
              "    }\n",
              "\n",
              "    [theme=dark] .colab-df-convert:hover {\n",
              "      background-color: #434B5C;\n",
              "      box-shadow: 0px 1px 3px 1px rgba(0, 0, 0, 0.15);\n",
              "      filter: drop-shadow(0px 1px 2px rgba(0, 0, 0, 0.3));\n",
              "      fill: #FFFFFF;\n",
              "    }\n",
              "  </style>\n",
              "\n",
              "    <script>\n",
              "      const buttonEl =\n",
              "        document.querySelector('#df-119684b5-bc12-43c5-a8c8-5d794a78dd6b button.colab-df-convert');\n",
              "      buttonEl.style.display =\n",
              "        google.colab.kernel.accessAllowed ? 'block' : 'none';\n",
              "\n",
              "      async function convertToInteractive(key) {\n",
              "        const element = document.querySelector('#df-119684b5-bc12-43c5-a8c8-5d794a78dd6b');\n",
              "        const dataTable =\n",
              "          await google.colab.kernel.invokeFunction('convertToInteractive',\n",
              "                                                    [key], {});\n",
              "        if (!dataTable) return;\n",
              "\n",
              "        const docLinkHtml = 'Like what you see? Visit the ' +\n",
              "          '<a target=\"_blank\" href=https://colab.research.google.com/notebooks/data_table.ipynb>data table notebook</a>'\n",
              "          + ' to learn more about interactive tables.';\n",
              "        element.innerHTML = '';\n",
              "        dataTable['output_type'] = 'display_data';\n",
              "        await google.colab.output.renderOutput(dataTable, element);\n",
              "        const docLink = document.createElement('div');\n",
              "        docLink.innerHTML = docLinkHtml;\n",
              "        element.appendChild(docLink);\n",
              "      }\n",
              "    </script>\n",
              "  </div>\n",
              "\n",
              "\n",
              "<div id=\"df-ab458ef2-24a6-4879-823e-c00f29b5b79a\">\n",
              "  <button class=\"colab-df-quickchart\" onclick=\"quickchart('df-ab458ef2-24a6-4879-823e-c00f29b5b79a')\"\n",
              "            title=\"Suggest charts.\"\n",
              "            style=\"display:none;\">\n",
              "\n",
              "<svg xmlns=\"http://www.w3.org/2000/svg\" height=\"24px\"viewBox=\"0 0 24 24\"\n",
              "     width=\"24px\">\n",
              "    <g>\n",
              "        <path d=\"M19 3H5c-1.1 0-2 .9-2 2v14c0 1.1.9 2 2 2h14c1.1 0 2-.9 2-2V5c0-1.1-.9-2-2-2zM9 17H7v-7h2v7zm4 0h-2V7h2v10zm4 0h-2v-4h2v4z\"/>\n",
              "    </g>\n",
              "</svg>\n",
              "  </button>\n",
              "\n",
              "<style>\n",
              "  .colab-df-quickchart {\n",
              "      --bg-color: #E8F0FE;\n",
              "      --fill-color: #1967D2;\n",
              "      --hover-bg-color: #E2EBFA;\n",
              "      --hover-fill-color: #174EA6;\n",
              "      --disabled-fill-color: #AAA;\n",
              "      --disabled-bg-color: #DDD;\n",
              "  }\n",
              "\n",
              "  [theme=dark] .colab-df-quickchart {\n",
              "      --bg-color: #3B4455;\n",
              "      --fill-color: #D2E3FC;\n",
              "      --hover-bg-color: #434B5C;\n",
              "      --hover-fill-color: #FFFFFF;\n",
              "      --disabled-bg-color: #3B4455;\n",
              "      --disabled-fill-color: #666;\n",
              "  }\n",
              "\n",
              "  .colab-df-quickchart {\n",
              "    background-color: var(--bg-color);\n",
              "    border: none;\n",
              "    border-radius: 50%;\n",
              "    cursor: pointer;\n",
              "    display: none;\n",
              "    fill: var(--fill-color);\n",
              "    height: 32px;\n",
              "    padding: 0;\n",
              "    width: 32px;\n",
              "  }\n",
              "\n",
              "  .colab-df-quickchart:hover {\n",
              "    background-color: var(--hover-bg-color);\n",
              "    box-shadow: 0 1px 2px rgba(60, 64, 67, 0.3), 0 1px 3px 1px rgba(60, 64, 67, 0.15);\n",
              "    fill: var(--button-hover-fill-color);\n",
              "  }\n",
              "\n",
              "  .colab-df-quickchart-complete:disabled,\n",
              "  .colab-df-quickchart-complete:disabled:hover {\n",
              "    background-color: var(--disabled-bg-color);\n",
              "    fill: var(--disabled-fill-color);\n",
              "    box-shadow: none;\n",
              "  }\n",
              "\n",
              "  .colab-df-spinner {\n",
              "    border: 2px solid var(--fill-color);\n",
              "    border-color: transparent;\n",
              "    border-bottom-color: var(--fill-color);\n",
              "    animation:\n",
              "      spin 1s steps(1) infinite;\n",
              "  }\n",
              "\n",
              "  @keyframes spin {\n",
              "    0% {\n",
              "      border-color: transparent;\n",
              "      border-bottom-color: var(--fill-color);\n",
              "      border-left-color: var(--fill-color);\n",
              "    }\n",
              "    20% {\n",
              "      border-color: transparent;\n",
              "      border-left-color: var(--fill-color);\n",
              "      border-top-color: var(--fill-color);\n",
              "    }\n",
              "    30% {\n",
              "      border-color: transparent;\n",
              "      border-left-color: var(--fill-color);\n",
              "      border-top-color: var(--fill-color);\n",
              "      border-right-color: var(--fill-color);\n",
              "    }\n",
              "    40% {\n",
              "      border-color: transparent;\n",
              "      border-right-color: var(--fill-color);\n",
              "      border-top-color: var(--fill-color);\n",
              "    }\n",
              "    60% {\n",
              "      border-color: transparent;\n",
              "      border-right-color: var(--fill-color);\n",
              "    }\n",
              "    80% {\n",
              "      border-color: transparent;\n",
              "      border-right-color: var(--fill-color);\n",
              "      border-bottom-color: var(--fill-color);\n",
              "    }\n",
              "    90% {\n",
              "      border-color: transparent;\n",
              "      border-bottom-color: var(--fill-color);\n",
              "    }\n",
              "  }\n",
              "</style>\n",
              "\n",
              "  <script>\n",
              "    async function quickchart(key) {\n",
              "      const quickchartButtonEl =\n",
              "        document.querySelector('#' + key + ' button');\n",
              "      quickchartButtonEl.disabled = true;  // To prevent multiple clicks.\n",
              "      quickchartButtonEl.classList.add('colab-df-spinner');\n",
              "      try {\n",
              "        const charts = await google.colab.kernel.invokeFunction(\n",
              "            'suggestCharts', [key], {});\n",
              "      } catch (error) {\n",
              "        console.error('Error during call to suggestCharts:', error);\n",
              "      }\n",
              "      quickchartButtonEl.classList.remove('colab-df-spinner');\n",
              "      quickchartButtonEl.classList.add('colab-df-quickchart-complete');\n",
              "    }\n",
              "    (() => {\n",
              "      let quickchartButtonEl =\n",
              "        document.querySelector('#df-ab458ef2-24a6-4879-823e-c00f29b5b79a button');\n",
              "      quickchartButtonEl.style.display =\n",
              "        google.colab.kernel.accessAllowed ? 'block' : 'none';\n",
              "    })();\n",
              "  </script>\n",
              "</div>\n",
              "    </div>\n",
              "  </div>\n"
            ]
          },
          "metadata": {},
          "execution_count": 8
        }
      ]
    },
    {
      "cell_type": "markdown",
      "source": [
        "Max age is impossible value."
      ],
      "metadata": {
        "id": "le6oqYjx1V7k"
      }
    },
    {
      "cell_type": "code",
      "source": [
        "num_columns= df.select_dtypes('number')\n",
        "for column in num_columns:\n",
        "    print('==============================')\n",
        "    print(f\"{column} : {df[column].unique()}\")"
      ],
      "metadata": {
        "colab": {
          "base_uri": "https://localhost:8080/"
        },
        "id": "bJAt3oGwRwv-",
        "outputId": "99374c3b-c8ac-47da-eb7c-eb7f3de777fc"
      },
      "execution_count": null,
      "outputs": [
        {
          "output_type": "stream",
          "name": "stdout",
          "text": [
            "==============================\n",
            "age : [   29    41    36    32    60    77    28    54    42    51    37    16\n",
            "    43    63    40    75    56    85    71    67    55    61    46    44\n",
            "    82    64    70    33    59    53    52    49    35    48    27    69\n",
            "    76    73    68    66    30    88    38    58    21    45    83    62\n",
            "    25    86    72    14    15    39    26    20    80    90    23    18\n",
            "    13    78    24    81    92    57    74     9    47    17    11    50\n",
            "    34     8    79    31    65    84    12    10    19    22     1     2\n",
            "    97     6    89    87   455    93     7    91     5    94     4 65511\n",
            "    95 65512     3 65526]\n",
            "==============================\n",
            "TSH : [3.0000000e-01 1.6000000e+00           nan 7.0000000e-01 1.2000000e+00\n",
            " 1.9000000e+00 1.0000000e+00 5.0000000e-01 2.6000000e+00 6.8000000e+01\n",
            " 1.5000000e+00 5.9000000e+00 5.0000000e-02 4.0000000e+00 4.0000000e-01\n",
            " 8.0000000e-01 2.0000000e-01 3.0000000e+00 9.5999990e+00 1.4000000e+02\n",
            " 6.0000000e-01 1.7000000e+00 2.5000000e+00 6.8000000e+00 2.1000000e+00\n",
            " 1.1000000e+00 9.7999990e+00 3.7000000e+00 1.0000000e-01 3.5000000e-01\n",
            " 9.0000000e+01 1.3000000e+00 2.7000000e+00 2.9000000e+00 2.5000000e-01\n",
            " 5.8000000e+00 2.0000000e+00 9.0000000e-01 3.2000000e+00 7.4000000e+00\n",
            " 1.8000000e+00 5.0000000e+00 7.0000000e+01 6.5000000e+00 1.1599999e+01\n",
            " 4.2000000e+00 8.8000000e+01 2.2000000e+00 5.3000000e+01 1.6500000e+01\n",
            " 8.4000000e+00 4.1000000e+00 3.3000000e+00 8.0000000e+01 1.7600000e+02\n",
            " 3.0000000e+01 1.1000000e+01 6.0000000e+00 7.1000000e+01 9.0999990e+00\n",
            " 1.0700000e+01 4.9000000e+00 3.4000000e+00 1.8300000e+00 4.6000000e+00\n",
            " 1.4000000e+00 1.4000000e+01 3.5000000e+00 4.6000000e+01 1.8000000e+01\n",
            " 1.7000000e+02 1.9199999e+01 7.5000000e+00 1.4500000e+02 7.9000000e+00\n",
            " 1.9000000e+01 4.8000000e+01 2.5000000e+01 7.3000000e+00 6.7000000e+00\n",
            " 1.5300000e+02 3.5000000e+01 3.8000000e+00 2.3000000e+00 9.2000000e+00\n",
            " 1.2000000e+01 5.5000000e+00 1.5299999e+01 1.5000000e-01 1.0299999e+01\n",
            " 4.3000000e+02 2.1300000e+02 3.7000000e+01 2.1600000e+02 2.6000000e+01\n",
            " 4.3000000e+00 2.4000000e+00 4.7000000e+01 8.2000000e+00 1.4400000e+01\n",
            " 1.7400000e+01 1.0000000e+02 1.3200000e+01 4.1000000e+01 3.1000000e+00\n",
            " 2.2000000e+01 4.5000000e+01 4.5000000e+00 2.4000000e+01 6.5000000e+01\n",
            " 4.4000000e+00 5.6000000e+01 1.1400000e+01 5.2000000e+00 5.6000000e+00\n",
            " 8.2999990e+00 4.0000000e+02 2.6000000e+02 5.4000000e+00 8.0000000e+00\n",
            " 6.6000000e+00 8.5000000e+00 5.1000000e+00 1.3800000e+02 4.2000000e+01\n",
            " 4.4000000e+01 2.8000000e+00 1.0000000e+01 5.4000000e+01 3.9000000e+00\n",
            " 1.5000000e+02 3.1000000e+01 6.5000000e-01 2.0000000e+02 8.5000000e+01\n",
            " 8.6000000e+01 6.3000000e+00 5.0000000e+01 3.4000000e+01 1.6000000e+01\n",
            " 9.4000000e+00 1.4299999e+01 4.9000000e+01 6.2000000e+00 8.2000000e+01\n",
            " 7.7000000e+01 9.2000000e+01 1.3000000e+01 4.7000000e+00 5.2000000e+01\n",
            " 2.7000000e+01 8.7999990e+00 1.0500000e+00 8.0999990e+00 1.3299999e+01\n",
            " 2.8000000e+01 1.2500000e+02 1.5000000e+01 1.0100000e+00 3.9000000e+01\n",
            " 2.8800000e+02 2.1000000e+01 3.6000000e+00 4.5000000e-01 1.4300000e+02\n",
            " 2.3500000e+02 5.5000000e+01 7.6000000e+00 3.8000000e+01 3.2000000e+01\n",
            " 6.1000000e+01 4.8000000e+00 1.4799999e+01 7.0000000e+00 2.0000000e+01\n",
            " 9.0000000e+00 9.8000000e+01 2.9000000e+01 6.4000000e+00 1.7000000e+01\n",
            " 2.3000000e+01 1.8400000e+01 3.6000000e+01 1.0900000e+02 8.5999990e+00\n",
            " 6.1000000e+00 1.2600000e+02 4.3000000e+01 9.7000000e+00 4.0000000e-02\n",
            " 1.2000000e-01 6.9000000e+00 1.6000000e+02 1.6000000e-01 5.3000000e-01\n",
            " 8.8000000e-01 2.6000000e-01 2.5000000e-02 3.9000000e-01 7.7000000e-01\n",
            " 7.0000000e-02 4.0000000e+01 2.3000000e-01 8.4000000e-01 9.5000000e-01\n",
            " 3.8000000e-01 4.1000000e-01 6.5000000e-02 5.0000000e-03 7.8000000e-01\n",
            " 8.1000000e-01 1.8300000e+02 6.1000000e-01 3.2000000e-01 8.2000000e-01\n",
            " 8.9000000e+00 8.7000000e-01 9.8000000e-01 4.7000000e-01 5.8000000e-01\n",
            " 4.3000000e-01 8.0000000e-02 8.6000000e-01 8.9000000e-01 9.1000000e-01\n",
            " 5.3000000e+02 1.0000000e-02 5.2000000e-01 8.3000000e-01 1.5000000e-02\n",
            " 3.0000000e-02 5.9000000e-01 6.2000000e-01 7.4000000e-01 4.6000000e-01\n",
            " 1.7800000e+02 2.0000000e-02 9.0000000e-02 1.6500000e+02 6.8000000e-01\n",
            " 8.5000000e-01 3.5000000e-02 1.7000000e-01 7.1000000e+00 7.8000000e+00\n",
            " 9.9000000e+00 4.2000000e-01 2.8000000e-01 3.7000000e-01 4.4000000e+02\n",
            " 2.7000000e-01 6.3000000e-01 7.1000000e-01 5.7000000e-01 9.2000000e-01\n",
            " 7.2000000e-01 4.9000000e-01 9.4000000e-01 9.7000000e-01 5.6000000e-01\n",
            " 5.4000000e-01 7.9000000e-01 1.0300000e+02 7.5000000e-01 5.7300000e+00\n",
            " 6.7000000e-01 7.2000000e+00 1.1099999e+01 9.3000000e-01 5.1000000e-01\n",
            " 9.5000000e+00 7.6000000e-01 7.7000000e+00 6.0000000e-02 6.4000000e-01\n",
            " 5.7000000e+00 7.3000000e-01 1.9900000e+02 9.9000000e+01 5.8000000e+01\n",
            " 2.2000000e-01 6.6000000e+01 9.6000000e-01 1.9000000e-01 2.4000000e-01\n",
            " 5.5000000e-01 1.8000000e-01 2.1000000e-01 4.8000000e-01 1.0200000e+00\n",
            " 4.4000000e-01 9.9000000e-01 3.4000000e-01 3.3000000e-01 1.1700000e+02\n",
            " 6.9000000e-01 8.9000000e+01 7.6000000e+01 1.5100000e+02 5.1000000e+01\n",
            " 1.3900000e+02 1.4000000e-01 2.9000000e-01 7.8000000e+01 4.7200000e+02\n",
            " 5.3000000e+00 2.3000000e+02 3.1000000e-01 1.2099999e+01 4.5000000e-02\n",
            " 5.5000000e-02 6.0000000e+01 1.3000000e-01 1.0800000e+02 1.8800000e+02\n",
            " 3.0500000e+01 4.6800000e+02 3.6000000e-01 2.6400000e+01 6.6000000e-01\n",
            " 2.3600000e+02 3.3000000e+01 4.7800000e+02 9.2999990e+00 1.1600000e+02\n",
            " 2.5500000e-01 1.1000000e-01 1.1400000e+02 1.0300000e+00 1.9700000e+02\n",
            " 9.6000000e+01 1.1500000e+01 1.3100000e+02 6.7000000e+01 1.0600000e+02\n",
            " 1.7200000e+02 1.6400000e+02 7.5000000e-02 1.4100000e+02 1.0400000e+00\n",
            " 1.3500000e-01 8.5000000e-02 1.2500000e-01 1.1500000e-01 7.3000000e+01\n",
            " 4.3600000e+02 9.5000000e-02 1.1900000e+01 4.9400000e+02 6.2000000e+01\n",
            " 3.9300000e+02 8.7000000e+00 1.0500000e-01 2.5200000e+02 5.9000000e+01\n",
            " 1.1800000e+02 1.1400000e+00 1.1200000e+00 1.9100000e+02 1.6600000e+02\n",
            " 4.6000000e+02 1.9200000e+02 1.3600000e+02 1.7700000e+02 1.9800000e+02\n",
            " 1.3700000e+01 1.6799999e+01 7.4000000e+01 5.0000000e+02 4.0100000e+00]\n",
            "==============================\n",
            "T3 : [      nan  1.9       2.6       1.8       1.7       2.3       2.4\n",
            "  2.9       2.        2.1       1.6       0.1       1.4       1.2\n",
            "  1.5       1.3       2.5       2.7       2.2       2.8       3.2\n",
            "  0.4       0.8       1.        1.1       3.7       4.4       3.\n",
            "  3.1       3.6       7.6       0.9       4.2       0.5       0.6\n",
            "  0.3       0.7       3.8       0.2       4.1       6.6       4.7\n",
            "  8.599999  3.3       4.3       0.05      3.4       4.6       4.9\n",
            "  6.2       3.5       3.9       8.9       4.5       8.099999  5.\n",
            "  4.8       5.1       5.3       6.7       7.3       6.1       4.\n",
            "  5.5       5.4       5.7       7.        6.        7.1       8.5\n",
            " 10.599999  1.44      5.2       6.9       6.8       5.6       6.4\n",
            " 18.        9.5       6.5      13.299999  0.83      0.69      0.93\n",
            "  5.9       8.      ]\n",
            "==============================\n",
            "TT4 : [   nan 128.   116.    76.    83.   133.   105.   122.    48.    90.\n",
            "  79.   104.    88.   107.   126.   113.   150.    93.   157.    80.\n",
            "  91.    47.    39.    71.   111.    86.   136.   163.   118.    82.\n",
            "  33.   134.    60.   102.    97.   115.   132.   114.    94.   145.\n",
            " 106.    87.   120.   121.   152.    98.   109.   139.   131.   112.\n",
            "  64.     7.5   68.    99.    92.    95.   100.   184.    81.   308.\n",
            "  57.   170.   130.    51.   144.    73.    63.    78.   129.    85.\n",
            " 125.   196.   153.    96.   127.   108.   250.   141.   110.   101.\n",
            " 210.   140.    74.   188.     3.9  117.    84.   138.   119.    27.\n",
            "  89.   236.    32.    55.    72.    44.   158.    69.     9.     6.\n",
            "  15.   149.    13.    61.   182.     4.   178.   135.    70.   151.\n",
            "  56.    59.   213.    77.   222.   195.    14.    12.    40.    67.\n",
            "  16.   167.   148.   147.   123.    50.    65.    66.     7.6    4.1\n",
            "  49.    75.   202.     3.   169.   200.    24.   242.   162.   103.\n",
            " 143.   186.   124.    58.    35.   180.   359.    43.   225.   137.\n",
            " 166.   302.    62.   206.    52.   155.   142.   261.   176.    22.\n",
            " 260.   159.    54.   287.   230.    36.   172.   296.    21.   154.\n",
            " 183.   198.   174.   208.   245.   217.    11.   207.    42.   228.\n",
            "  46.   201.   212.    23.   333.    38.   168.    41.   175.   146.\n",
            " 211.   181.   156.     9.7  275.   247.   268.   269.    10.   216.\n",
            " 223.    30.   160.   164.   197.   194.   161.    18.   244.    19.\n",
            "  31.   235.   190.   191.   218.    17.   209.    45.    37.   171.\n",
            " 252.   185.    34.     2.   450.   224.   221.   177.   215.   189.\n",
            " 255.   179.   301.     2.9  256.   187.   192.   205.     4.8  258.\n",
            " 220.    29.    53.    28.   199.   248.   430.   214.   253.   232.\n",
            "   5.8  165.     9.5  263.   240.   204.   193.   239.   372.    25.\n",
            " 203.   173.   219.   237.   231.   226.   246.   233.   289.   257.\n",
            " 273.   272.     5.   278.     8.4    4.06 395.     4.2  386.    20.\n",
            " 238.   600.   292.     2.5  410.   234.   249.   280.  ]\n",
            "==============================\n",
            "T4U : [  nan 1.02  1.06  0.94  1.08  0.84  1.13  1.07  0.87  0.89  0.62  0.91\n",
            " 0.68  1.    1.38  0.79  0.95  1.57  0.92  1.48  1.1   0.7   1.01  1.05\n",
            " 0.96  0.78  1.4   0.66  0.86  0.76  0.9   1.16  1.12  0.98  1.04  1.26\n",
            " 0.83  0.97  0.93  0.88  0.73  1.29  1.3   0.75  0.8   1.83  1.03  0.61\n",
            " 1.44  1.18  0.59  0.81  0.64  1.2   0.82  1.19  0.99  1.56  1.22  0.71\n",
            " 1.32  0.67  0.32  1.11  0.85  0.52  1.15  1.21  0.77  0.69  1.51  1.33\n",
            " 0.55  1.45  1.24  1.79  0.72  1.73  1.27  1.68  1.09  1.43  0.35  0.3\n",
            " 1.28  0.2   1.41  1.14  0.53  1.52  1.23  0.74  1.53  1.62  1.66  0.4\n",
            " 1.86  1.59  0.29  0.34  1.17  1.76  0.57  0.63  1.71  0.31  0.49  1.31\n",
            " 1.34  0.5   1.75  1.36  0.36  1.42  0.6   1.74  1.46  1.63  0.28  1.47\n",
            " 1.25  1.96  1.39  0.48  0.56  1.55  0.65  1.69  1.64  1.65  1.67  1.77\n",
            " 1.82  0.19  1.49  1.35  1.5   1.97  1.94  1.58  0.58  1.61  0.54  1.7\n",
            " 0.38  0.41  0.25  2.03  1.93  0.944 1.8   2.12  2.01  1.54  1.88  0.46\n",
            " 1.84  1.37  0.47  2.32  1.78  1.89  0.44  0.17  1.6   1.87  0.37  0.45\n",
            " 1.95  0.51  2.33  0.42  1.81  2.15  2.02  2.16  2.   ]\n",
            "==============================\n",
            "FTI : [       nan  47.        85.        84.        96.       105.\n",
            "  95.       106.       176.       129.       100.        69.\n",
            "  39.        91.        90.        93.        66.       121.\n",
            "  92.       173.       117.        31.       113.        67.\n",
            " 101.       126.       123.       149.        68.        86.\n",
            " 132.       131.       116.        97.       124.       136.\n",
            " 142.       104.         7.5      107.        73.       110.\n",
            " 130.        88.       128.       122.       102.       134.\n",
            " 163.        63.       354.        81.       109.       114.\n",
            " 133.       170.        99.       111.       108.       161.\n",
            "  78.       148.        98.       135.        80.       127.\n",
            " 213.       119.        65.        89.       143.       316.\n",
            " 155.       172.       150.       103.       120.       258.\n",
            "   5.       272.       263.       166.       138.        52.\n",
            " 164.       337.        94.       118.       182.        41.\n",
            "  70.       144.        10.         4.        13.        87.\n",
            " 140.        74.       152.        77.         3.        82.\n",
            " 145.        64.        79.       147.        54.        83.\n",
            " 634.       650.        12.        61.        11.       115.\n",
            "  35.        17.       165.       167.       153.        44.\n",
            "   3.4       55.        71.       253.        75.         2.5\n",
            " 197.        24.       156.       237.       203.       112.\n",
            " 141.         3.5      190.        37.        45.       193.\n",
            "  57.        76.       160.         6.       200.       485.\n",
            "  49.       158.       137.       428.       450.       174.\n",
            " 189.       202.       159.       196.       154.       139.\n",
            "  34.       222.       184.       178.       146.       125.\n",
            "  21.       157.        51.       839.       332.       151.\n",
            " 305.       299.       266.        32.        53.       370.\n",
            "  22.       168.        60.       187.       171.       220.\n",
            " 169.       232.       254.       345.       194.       211.\n",
            " 217.       550.        23.       257.       188.       192.\n",
            " 179.       218.       208.         6.6      240.        43.\n",
            " 259.       265.         9.       212.       347.       216.\n",
            "  29.       186.       162.       256.       177.        20.\n",
            "  33.       308.       482.        16.       180.        59.\n",
            " 264.       881.       204.        15.         1.4      271.\n",
            "  58.       334.       214.       228.       205.        72.\n",
            " 183.       612.       445.       244.       175.         2.8\n",
            " 283.        62.         7.6        5.4      199.       209.\n",
            " 227.        26.        48.       221.        28.       195.\n",
            " 395.       206.        46.       198.       215.         8.5\n",
            "  56.        14.       223.         8.9        8.4       18.\n",
            "   9.099999  50.       207.       185.       291.       235.\n",
            "  36.       224.        19.         7.       312.       247.\n",
            "  40.       274.       210.       242.       251.        27.\n",
            " 181.         2.       249.        42.       349.       191.\n",
            " 280.       281.       201.       245.       362.       219.\n",
            " 239.       273.       356.         2.4        8.299999 236.\n",
            "   8.7      262.         3.84     231.       369.         3.1\n",
            " 378.       546.       268.        25.       298.       241.\n",
            " 642.       238.       233.       325.       255.         4.5\n",
            " 519.         4.15     297.         4.85     321.       226.\n",
            " 290.       243.         5.5      288.        38.       329.      ]\n",
            "==============================\n",
            "TBG : [         nan 1.100000e+01 2.600000e+01 3.600000e+01 2.100000e+01\n",
            " 2.800000e+01 2.300000e+01 1.800000e+01 3.300000e+01 2.000000e+01\n",
            " 1.900000e+01 3.000000e+01 2.900000e+01 2.400000e+01 9.299999e+00\n",
            " 2.500000e+01 5.300000e+01 2.700000e+01 5.000000e+01 3.200000e+01\n",
            " 3.100000e+01 4.100000e+01 4.300000e+01 1.200000e+01 3.900000e+01\n",
            " 1.080000e+02 1.000000e-01 8.400000e+00 1.600000e+01 1.700000e+01\n",
            " 3.100000e+00 2.200000e+01 3.500000e+01 4.900000e+01 1.000000e+02\n",
            " 3.700000e+01 3.800000e+01 6.300000e+01 8.799999e+00 2.000000e+02\n",
            " 6.500000e+01 1.500000e+01 1.400000e+01 1.900000e+02 9.599999e+00\n",
            " 6.900000e+01 3.400000e+01 4.400000e+01 7.200000e+01 1.350000e+02\n",
            " 1.500000e-01 9.000000e+01 1.300000e+01 4.600000e+01 5.400000e+01\n",
            " 5.100000e+01 4.900000e+00 1.060000e+02 4.500000e+01 4.700000e+01\n",
            " 1.100000e+02 1.140000e+02 8.600000e+01 9.600000e+01 4.800000e+01\n",
            " 1.160000e+02 1.000000e+01]\n"
          ]
        }
      ]
    },
    {
      "cell_type": "code",
      "source": [
        "df['age'] = df['age'].replace(65511,11, regex=True).replace(65512,12, regex=True).replace(65526,26, regex=True).replace(455,45, regex=True)"
      ],
      "metadata": {
        "id": "tRqNRBKe1uxH",
        "colab": {
          "base_uri": "https://localhost:8080/"
        },
        "outputId": "c200ea64-669a-4c46-c0c0-36532992d475"
      },
      "execution_count": null,
      "outputs": [
        {
          "output_type": "stream",
          "name": "stderr",
          "text": [
            "<ipython-input-10-44969073ada0>:1: SettingWithCopyWarning: \n",
            "A value is trying to be set on a copy of a slice from a DataFrame.\n",
            "Try using .loc[row_indexer,col_indexer] = value instead\n",
            "\n",
            "See the caveats in the documentation: https://pandas.pydata.org/pandas-docs/stable/user_guide/indexing.html#returning-a-view-versus-a-copy\n",
            "  df['age'] = df['age'].replace(65511,11, regex=True).replace(65512,12, regex=True).replace(65526,26, regex=True).replace(455,45, regex=True)\n"
          ]
        }
      ]
    },
    {
      "cell_type": "code",
      "source": [
        "df['age'].unique()"
      ],
      "metadata": {
        "colab": {
          "base_uri": "https://localhost:8080/"
        },
        "id": "724dLoXI44ec",
        "outputId": "62262072-f749-4cbd-8f0d-746a29035a97"
      },
      "execution_count": null,
      "outputs": [
        {
          "output_type": "execute_result",
          "data": {
            "text/plain": [
              "array([29, 41, 36, 32, 60, 77, 28, 54, 42, 51, 37, 16, 43, 63, 40, 75, 56,\n",
              "       85, 71, 67, 55, 61, 46, 44, 82, 64, 70, 33, 59, 53, 52, 49, 35, 48,\n",
              "       27, 69, 76, 73, 68, 66, 30, 88, 38, 58, 21, 45, 83, 62, 25, 86, 72,\n",
              "       14, 15, 39, 26, 20, 80, 90, 23, 18, 13, 78, 24, 81, 92, 57, 74,  9,\n",
              "       47, 17, 11, 50, 34,  8, 79, 31, 65, 84, 12, 10, 19, 22,  1,  2, 97,\n",
              "        6, 89, 87, 93,  7, 91,  5, 94,  4, 95,  3])"
            ]
          },
          "metadata": {},
          "execution_count": 11
        }
      ]
    },
    {
      "cell_type": "markdown",
      "source": [
        "4. inconsistent values in categorical columns:"
      ],
      "metadata": {
        "id": "nghqDjuYR3ms"
      }
    },
    {
      "cell_type": "code",
      "source": [
        "object_columns= df.select_dtypes('object')\n",
        "for column in object_columns:\n",
        "    print('==============================')\n",
        "    print(f\"{column} : {df[column].unique()}\")"
      ],
      "metadata": {
        "colab": {
          "base_uri": "https://localhost:8080/"
        },
        "id": "ME09BWEwSAgn",
        "outputId": "f4141dca-7e49-4cd9-888e-d53b247f4543"
      },
      "execution_count": null,
      "outputs": [
        {
          "output_type": "stream",
          "name": "stdout",
          "text": [
            "==============================\n",
            "sex : ['F' 'M' nan]\n",
            "==============================\n",
            "on_thyroxine : ['f' 't']\n",
            "==============================\n",
            "query_on_thyroxine : ['f' 't']\n",
            "==============================\n",
            "on_antithyroid_meds : ['f' 't']\n",
            "==============================\n",
            "sick : ['f' 't']\n",
            "==============================\n",
            "pregnant : ['f' 't']\n",
            "==============================\n",
            "thyroid_surgery : ['f' 't']\n",
            "==============================\n",
            "I131_treatment : ['f' 't']\n",
            "==============================\n",
            "query_hypothyroid : ['t' 'f']\n",
            "==============================\n",
            "query_hyperthyroid : ['f' 't']\n",
            "==============================\n",
            "lithium : ['f' 't']\n",
            "==============================\n",
            "goitre : ['f' 't']\n",
            "==============================\n",
            "tumor : ['f' 't']\n",
            "==============================\n",
            "hypopituitary : ['f' 't']\n",
            "==============================\n",
            "psych : ['f' 't']\n",
            "==============================\n",
            "target : ['-' 'S' 'F' 'AK' 'R' 'I' 'M' 'N' 'G' 'K' 'A' 'KJ' 'L' 'MK' 'Q' 'J' 'C|I'\n",
            " 'O' 'LJ' 'H|K' 'D' 'GK' 'MI' 'P' 'FK' 'B' 'GI' 'C' 'GKJ' 'OI' 'D|R' 'E']\n"
          ]
        }
      ]
    },
    {
      "cell_type": "markdown",
      "source": [
        "5. NaN values:"
      ],
      "metadata": {
        "id": "qcSDaH4VSE87"
      }
    },
    {
      "cell_type": "code",
      "source": [
        "df.isna().sum()"
      ],
      "metadata": {
        "colab": {
          "base_uri": "https://localhost:8080/"
        },
        "id": "CMjYwKNCWODR",
        "outputId": "dd1ccfd9-cd96-4caf-d1ca-92b890c9a0b3"
      },
      "execution_count": null,
      "outputs": [
        {
          "output_type": "execute_result",
          "data": {
            "text/plain": [
              "age                       0\n",
              "sex                     306\n",
              "on_thyroxine              0\n",
              "query_on_thyroxine        0\n",
              "on_antithyroid_meds       0\n",
              "sick                      0\n",
              "pregnant                  0\n",
              "thyroid_surgery           0\n",
              "I131_treatment            0\n",
              "query_hypothyroid         0\n",
              "query_hyperthyroid        0\n",
              "lithium                   0\n",
              "goitre                    0\n",
              "tumor                     0\n",
              "hypopituitary             0\n",
              "psych                     0\n",
              "TSH                     834\n",
              "T3                     2596\n",
              "TT4                     434\n",
              "T4U                     801\n",
              "FTI                     794\n",
              "TBG                    8821\n",
              "target                    0\n",
              "dtype: int64"
            ]
          },
          "metadata": {},
          "execution_count": 13
        }
      ]
    },
    {
      "cell_type": "markdown",
      "source": [
        "There are missing value in TSH , T3, TT4, T4U, FTI and TBG. All of them are numerical columns. For object columns, there is missing values in sex column."
      ],
      "metadata": {
        "id": "IycmjVSSXykA"
      }
    },
    {
      "cell_type": "code",
      "source": [
        "df.drop(['TBG'], axis=1, inplace=True)\n",
        "df.head()"
      ],
      "metadata": {
        "colab": {
          "base_uri": "https://localhost:8080/",
          "height": 226
        },
        "id": "8SwUruZjbPCM",
        "outputId": "f7a535fb-c4ac-4a26-dffa-374083396e49"
      },
      "execution_count": null,
      "outputs": [
        {
          "output_type": "execute_result",
          "data": {
            "text/plain": [
              "   age sex on_thyroxine query_on_thyroxine on_antithyroid_meds sick pregnant  \\\n",
              "0   29   F            f                  f                   f    f        f   \n",
              "1   29   F            f                  f                   f    f        f   \n",
              "2   41   F            f                  f                   f    f        f   \n",
              "3   36   F            f                  f                   f    f        f   \n",
              "4   32   F            f                  f                   f    f        f   \n",
              "\n",
              "  thyroid_surgery I131_treatment query_hypothyroid query_hyperthyroid lithium  \\\n",
              "0               f              f                 t                  f       f   \n",
              "1               f              f                 f                  f       f   \n",
              "2               f              f                 f                  t       f   \n",
              "3               f              f                 f                  f       f   \n",
              "4               f              f                 f                  f       f   \n",
              "\n",
              "  goitre tumor hypopituitary psych  TSH   T3    TT4  T4U  FTI target  \n",
              "0      f     f             f     f  0.3  NaN    NaN  NaN  NaN      -  \n",
              "1      f     f             f     f  1.6  1.9  128.0  NaN  NaN      -  \n",
              "2      f     f             f     f  NaN  NaN    NaN  NaN  NaN      -  \n",
              "3      f     f             f     f  NaN  NaN    NaN  NaN  NaN      -  \n",
              "4      f     f             f     f  NaN  NaN    NaN  NaN  NaN      S  "
            ],
            "text/html": [
              "\n",
              "  <div id=\"df-fbe80f2e-9ef9-4fc4-8987-497bdf67c59b\" class=\"colab-df-container\">\n",
              "    <div>\n",
              "<style scoped>\n",
              "    .dataframe tbody tr th:only-of-type {\n",
              "        vertical-align: middle;\n",
              "    }\n",
              "\n",
              "    .dataframe tbody tr th {\n",
              "        vertical-align: top;\n",
              "    }\n",
              "\n",
              "    .dataframe thead th {\n",
              "        text-align: right;\n",
              "    }\n",
              "</style>\n",
              "<table border=\"1\" class=\"dataframe\">\n",
              "  <thead>\n",
              "    <tr style=\"text-align: right;\">\n",
              "      <th></th>\n",
              "      <th>age</th>\n",
              "      <th>sex</th>\n",
              "      <th>on_thyroxine</th>\n",
              "      <th>query_on_thyroxine</th>\n",
              "      <th>on_antithyroid_meds</th>\n",
              "      <th>sick</th>\n",
              "      <th>pregnant</th>\n",
              "      <th>thyroid_surgery</th>\n",
              "      <th>I131_treatment</th>\n",
              "      <th>query_hypothyroid</th>\n",
              "      <th>query_hyperthyroid</th>\n",
              "      <th>lithium</th>\n",
              "      <th>goitre</th>\n",
              "      <th>tumor</th>\n",
              "      <th>hypopituitary</th>\n",
              "      <th>psych</th>\n",
              "      <th>TSH</th>\n",
              "      <th>T3</th>\n",
              "      <th>TT4</th>\n",
              "      <th>T4U</th>\n",
              "      <th>FTI</th>\n",
              "      <th>target</th>\n",
              "    </tr>\n",
              "  </thead>\n",
              "  <tbody>\n",
              "    <tr>\n",
              "      <th>0</th>\n",
              "      <td>29</td>\n",
              "      <td>F</td>\n",
              "      <td>f</td>\n",
              "      <td>f</td>\n",
              "      <td>f</td>\n",
              "      <td>f</td>\n",
              "      <td>f</td>\n",
              "      <td>f</td>\n",
              "      <td>f</td>\n",
              "      <td>t</td>\n",
              "      <td>f</td>\n",
              "      <td>f</td>\n",
              "      <td>f</td>\n",
              "      <td>f</td>\n",
              "      <td>f</td>\n",
              "      <td>f</td>\n",
              "      <td>0.3</td>\n",
              "      <td>NaN</td>\n",
              "      <td>NaN</td>\n",
              "      <td>NaN</td>\n",
              "      <td>NaN</td>\n",
              "      <td>-</td>\n",
              "    </tr>\n",
              "    <tr>\n",
              "      <th>1</th>\n",
              "      <td>29</td>\n",
              "      <td>F</td>\n",
              "      <td>f</td>\n",
              "      <td>f</td>\n",
              "      <td>f</td>\n",
              "      <td>f</td>\n",
              "      <td>f</td>\n",
              "      <td>f</td>\n",
              "      <td>f</td>\n",
              "      <td>f</td>\n",
              "      <td>f</td>\n",
              "      <td>f</td>\n",
              "      <td>f</td>\n",
              "      <td>f</td>\n",
              "      <td>f</td>\n",
              "      <td>f</td>\n",
              "      <td>1.6</td>\n",
              "      <td>1.9</td>\n",
              "      <td>128.0</td>\n",
              "      <td>NaN</td>\n",
              "      <td>NaN</td>\n",
              "      <td>-</td>\n",
              "    </tr>\n",
              "    <tr>\n",
              "      <th>2</th>\n",
              "      <td>41</td>\n",
              "      <td>F</td>\n",
              "      <td>f</td>\n",
              "      <td>f</td>\n",
              "      <td>f</td>\n",
              "      <td>f</td>\n",
              "      <td>f</td>\n",
              "      <td>f</td>\n",
              "      <td>f</td>\n",
              "      <td>f</td>\n",
              "      <td>t</td>\n",
              "      <td>f</td>\n",
              "      <td>f</td>\n",
              "      <td>f</td>\n",
              "      <td>f</td>\n",
              "      <td>f</td>\n",
              "      <td>NaN</td>\n",
              "      <td>NaN</td>\n",
              "      <td>NaN</td>\n",
              "      <td>NaN</td>\n",
              "      <td>NaN</td>\n",
              "      <td>-</td>\n",
              "    </tr>\n",
              "    <tr>\n",
              "      <th>3</th>\n",
              "      <td>36</td>\n",
              "      <td>F</td>\n",
              "      <td>f</td>\n",
              "      <td>f</td>\n",
              "      <td>f</td>\n",
              "      <td>f</td>\n",
              "      <td>f</td>\n",
              "      <td>f</td>\n",
              "      <td>f</td>\n",
              "      <td>f</td>\n",
              "      <td>f</td>\n",
              "      <td>f</td>\n",
              "      <td>f</td>\n",
              "      <td>f</td>\n",
              "      <td>f</td>\n",
              "      <td>f</td>\n",
              "      <td>NaN</td>\n",
              "      <td>NaN</td>\n",
              "      <td>NaN</td>\n",
              "      <td>NaN</td>\n",
              "      <td>NaN</td>\n",
              "      <td>-</td>\n",
              "    </tr>\n",
              "    <tr>\n",
              "      <th>4</th>\n",
              "      <td>32</td>\n",
              "      <td>F</td>\n",
              "      <td>f</td>\n",
              "      <td>f</td>\n",
              "      <td>f</td>\n",
              "      <td>f</td>\n",
              "      <td>f</td>\n",
              "      <td>f</td>\n",
              "      <td>f</td>\n",
              "      <td>f</td>\n",
              "      <td>f</td>\n",
              "      <td>f</td>\n",
              "      <td>f</td>\n",
              "      <td>f</td>\n",
              "      <td>f</td>\n",
              "      <td>f</td>\n",
              "      <td>NaN</td>\n",
              "      <td>NaN</td>\n",
              "      <td>NaN</td>\n",
              "      <td>NaN</td>\n",
              "      <td>NaN</td>\n",
              "      <td>S</td>\n",
              "    </tr>\n",
              "  </tbody>\n",
              "</table>\n",
              "</div>\n",
              "    <div class=\"colab-df-buttons\">\n",
              "\n",
              "  <div class=\"colab-df-container\">\n",
              "    <button class=\"colab-df-convert\" onclick=\"convertToInteractive('df-fbe80f2e-9ef9-4fc4-8987-497bdf67c59b')\"\n",
              "            title=\"Convert this dataframe to an interactive table.\"\n",
              "            style=\"display:none;\">\n",
              "\n",
              "  <svg xmlns=\"http://www.w3.org/2000/svg\" height=\"24px\" viewBox=\"0 -960 960 960\">\n",
              "    <path d=\"M120-120v-720h720v720H120Zm60-500h600v-160H180v160Zm220 220h160v-160H400v160Zm0 220h160v-160H400v160ZM180-400h160v-160H180v160Zm440 0h160v-160H620v160ZM180-180h160v-160H180v160Zm440 0h160v-160H620v160Z\"/>\n",
              "  </svg>\n",
              "    </button>\n",
              "\n",
              "  <style>\n",
              "    .colab-df-container {\n",
              "      display:flex;\n",
              "      gap: 12px;\n",
              "    }\n",
              "\n",
              "    .colab-df-convert {\n",
              "      background-color: #E8F0FE;\n",
              "      border: none;\n",
              "      border-radius: 50%;\n",
              "      cursor: pointer;\n",
              "      display: none;\n",
              "      fill: #1967D2;\n",
              "      height: 32px;\n",
              "      padding: 0 0 0 0;\n",
              "      width: 32px;\n",
              "    }\n",
              "\n",
              "    .colab-df-convert:hover {\n",
              "      background-color: #E2EBFA;\n",
              "      box-shadow: 0px 1px 2px rgba(60, 64, 67, 0.3), 0px 1px 3px 1px rgba(60, 64, 67, 0.15);\n",
              "      fill: #174EA6;\n",
              "    }\n",
              "\n",
              "    .colab-df-buttons div {\n",
              "      margin-bottom: 4px;\n",
              "    }\n",
              "\n",
              "    [theme=dark] .colab-df-convert {\n",
              "      background-color: #3B4455;\n",
              "      fill: #D2E3FC;\n",
              "    }\n",
              "\n",
              "    [theme=dark] .colab-df-convert:hover {\n",
              "      background-color: #434B5C;\n",
              "      box-shadow: 0px 1px 3px 1px rgba(0, 0, 0, 0.15);\n",
              "      filter: drop-shadow(0px 1px 2px rgba(0, 0, 0, 0.3));\n",
              "      fill: #FFFFFF;\n",
              "    }\n",
              "  </style>\n",
              "\n",
              "    <script>\n",
              "      const buttonEl =\n",
              "        document.querySelector('#df-fbe80f2e-9ef9-4fc4-8987-497bdf67c59b button.colab-df-convert');\n",
              "      buttonEl.style.display =\n",
              "        google.colab.kernel.accessAllowed ? 'block' : 'none';\n",
              "\n",
              "      async function convertToInteractive(key) {\n",
              "        const element = document.querySelector('#df-fbe80f2e-9ef9-4fc4-8987-497bdf67c59b');\n",
              "        const dataTable =\n",
              "          await google.colab.kernel.invokeFunction('convertToInteractive',\n",
              "                                                    [key], {});\n",
              "        if (!dataTable) return;\n",
              "\n",
              "        const docLinkHtml = 'Like what you see? Visit the ' +\n",
              "          '<a target=\"_blank\" href=https://colab.research.google.com/notebooks/data_table.ipynb>data table notebook</a>'\n",
              "          + ' to learn more about interactive tables.';\n",
              "        element.innerHTML = '';\n",
              "        dataTable['output_type'] = 'display_data';\n",
              "        await google.colab.output.renderOutput(dataTable, element);\n",
              "        const docLink = document.createElement('div');\n",
              "        docLink.innerHTML = docLinkHtml;\n",
              "        element.appendChild(docLink);\n",
              "      }\n",
              "    </script>\n",
              "  </div>\n",
              "\n",
              "\n",
              "<div id=\"df-aed6859d-581e-4a4f-8c93-4cb9fc010b64\">\n",
              "  <button class=\"colab-df-quickchart\" onclick=\"quickchart('df-aed6859d-581e-4a4f-8c93-4cb9fc010b64')\"\n",
              "            title=\"Suggest charts.\"\n",
              "            style=\"display:none;\">\n",
              "\n",
              "<svg xmlns=\"http://www.w3.org/2000/svg\" height=\"24px\"viewBox=\"0 0 24 24\"\n",
              "     width=\"24px\">\n",
              "    <g>\n",
              "        <path d=\"M19 3H5c-1.1 0-2 .9-2 2v14c0 1.1.9 2 2 2h14c1.1 0 2-.9 2-2V5c0-1.1-.9-2-2-2zM9 17H7v-7h2v7zm4 0h-2V7h2v10zm4 0h-2v-4h2v4z\"/>\n",
              "    </g>\n",
              "</svg>\n",
              "  </button>\n",
              "\n",
              "<style>\n",
              "  .colab-df-quickchart {\n",
              "      --bg-color: #E8F0FE;\n",
              "      --fill-color: #1967D2;\n",
              "      --hover-bg-color: #E2EBFA;\n",
              "      --hover-fill-color: #174EA6;\n",
              "      --disabled-fill-color: #AAA;\n",
              "      --disabled-bg-color: #DDD;\n",
              "  }\n",
              "\n",
              "  [theme=dark] .colab-df-quickchart {\n",
              "      --bg-color: #3B4455;\n",
              "      --fill-color: #D2E3FC;\n",
              "      --hover-bg-color: #434B5C;\n",
              "      --hover-fill-color: #FFFFFF;\n",
              "      --disabled-bg-color: #3B4455;\n",
              "      --disabled-fill-color: #666;\n",
              "  }\n",
              "\n",
              "  .colab-df-quickchart {\n",
              "    background-color: var(--bg-color);\n",
              "    border: none;\n",
              "    border-radius: 50%;\n",
              "    cursor: pointer;\n",
              "    display: none;\n",
              "    fill: var(--fill-color);\n",
              "    height: 32px;\n",
              "    padding: 0;\n",
              "    width: 32px;\n",
              "  }\n",
              "\n",
              "  .colab-df-quickchart:hover {\n",
              "    background-color: var(--hover-bg-color);\n",
              "    box-shadow: 0 1px 2px rgba(60, 64, 67, 0.3), 0 1px 3px 1px rgba(60, 64, 67, 0.15);\n",
              "    fill: var(--button-hover-fill-color);\n",
              "  }\n",
              "\n",
              "  .colab-df-quickchart-complete:disabled,\n",
              "  .colab-df-quickchart-complete:disabled:hover {\n",
              "    background-color: var(--disabled-bg-color);\n",
              "    fill: var(--disabled-fill-color);\n",
              "    box-shadow: none;\n",
              "  }\n",
              "\n",
              "  .colab-df-spinner {\n",
              "    border: 2px solid var(--fill-color);\n",
              "    border-color: transparent;\n",
              "    border-bottom-color: var(--fill-color);\n",
              "    animation:\n",
              "      spin 1s steps(1) infinite;\n",
              "  }\n",
              "\n",
              "  @keyframes spin {\n",
              "    0% {\n",
              "      border-color: transparent;\n",
              "      border-bottom-color: var(--fill-color);\n",
              "      border-left-color: var(--fill-color);\n",
              "    }\n",
              "    20% {\n",
              "      border-color: transparent;\n",
              "      border-left-color: var(--fill-color);\n",
              "      border-top-color: var(--fill-color);\n",
              "    }\n",
              "    30% {\n",
              "      border-color: transparent;\n",
              "      border-left-color: var(--fill-color);\n",
              "      border-top-color: var(--fill-color);\n",
              "      border-right-color: var(--fill-color);\n",
              "    }\n",
              "    40% {\n",
              "      border-color: transparent;\n",
              "      border-right-color: var(--fill-color);\n",
              "      border-top-color: var(--fill-color);\n",
              "    }\n",
              "    60% {\n",
              "      border-color: transparent;\n",
              "      border-right-color: var(--fill-color);\n",
              "    }\n",
              "    80% {\n",
              "      border-color: transparent;\n",
              "      border-right-color: var(--fill-color);\n",
              "      border-bottom-color: var(--fill-color);\n",
              "    }\n",
              "    90% {\n",
              "      border-color: transparent;\n",
              "      border-bottom-color: var(--fill-color);\n",
              "    }\n",
              "  }\n",
              "</style>\n",
              "\n",
              "  <script>\n",
              "    async function quickchart(key) {\n",
              "      const quickchartButtonEl =\n",
              "        document.querySelector('#' + key + ' button');\n",
              "      quickchartButtonEl.disabled = true;  // To prevent multiple clicks.\n",
              "      quickchartButtonEl.classList.add('colab-df-spinner');\n",
              "      try {\n",
              "        const charts = await google.colab.kernel.invokeFunction(\n",
              "            'suggestCharts', [key], {});\n",
              "      } catch (error) {\n",
              "        console.error('Error during call to suggestCharts:', error);\n",
              "      }\n",
              "      quickchartButtonEl.classList.remove('colab-df-spinner');\n",
              "      quickchartButtonEl.classList.add('colab-df-quickchart-complete');\n",
              "    }\n",
              "    (() => {\n",
              "      let quickchartButtonEl =\n",
              "        document.querySelector('#df-aed6859d-581e-4a4f-8c93-4cb9fc010b64 button');\n",
              "      quickchartButtonEl.style.display =\n",
              "        google.colab.kernel.accessAllowed ? 'block' : 'none';\n",
              "    })();\n",
              "  </script>\n",
              "</div>\n",
              "    </div>\n",
              "  </div>\n"
            ]
          },
          "metadata": {},
          "execution_count": 14
        }
      ]
    },
    {
      "cell_type": "markdown",
      "source": [
        "We will use Exploratory Visualizations to determine the best imputation method for the numerical columns."
      ],
      "metadata": {
        "id": "WPuLY01XYLwB"
      }
    },
    {
      "cell_type": "code",
      "source": [
        "def plot_numeric(df,col):\n",
        "  \"\"\"EDA function to plot a histogram and boxplot for the selected column\"\"\"\n",
        "  ## make the figure and axes sharing the same x-axis\n",
        "  fig, axes = plt.subplots(nrows=2, figsize=(10,5), sharex=True)\n",
        "\n",
        "  ## Use seaborn plots with ax=axes[i]\n",
        "  sns.histplot(data=df,x = col,ax = axes[0])\n",
        "  mean_value = df[col].mean()\n",
        "  axes[0].axvline(mean_value,color='red', ls='--',\n",
        "           label=f\"Mean Value = {mean_value:,.2f}\",);\n",
        "\n",
        "  med_value = df[col].median()\n",
        "  axes[0].axvline(med_value,color='black', ls='--',\n",
        "           label=f\"Median Value = {med_value:,.2f}\");\n",
        "\n",
        "  axes[0].legend();\n",
        "\n",
        "  sns.boxplot(data=df, x = col, ax = axes[1])\n",
        "\n",
        "  ## Updating title of top graph\n",
        "  axes[0].set_title(f'EDA for {col}')\n",
        "\n",
        "  ## Fixing any overlapping labels and showing\n",
        "  plt.tight_layout()\n",
        "  plt.show()"
      ],
      "metadata": {
        "id": "7c6Cie6iYLHF"
      },
      "execution_count": null,
      "outputs": []
    },
    {
      "cell_type": "code",
      "source": [
        "plot_numeric(df,\"TSH\")"
      ],
      "metadata": {
        "colab": {
          "base_uri": "https://localhost:8080/",
          "height": 507
        },
        "id": "-Zt4SOaOYR4q",
        "outputId": "a0971a26-a1db-463d-92da-f447c2c6b3da"
      },
      "execution_count": null,
      "outputs": [
        {
          "output_type": "display_data",
          "data": {
            "text/plain": [
              "<Figure size 1000x500 with 2 Axes>"
            ],
            "image/png": "[encoded data removed]"
          },
          "metadata": {}
        }
      ]
    },
    {
      "cell_type": "markdown",
      "source": [
        "The distribution is skewed, therefore the missing value will be imputed with the median since the median will be less sensitive to outliers than the mean."
      ],
      "metadata": {
        "id": "kPu8HRLOWfly"
      }
    },
    {
      "cell_type": "code",
      "source": [
        "df['TSH'].fillna(df['TSH'].median(), inplace = True)\n",
        "df['TSH'].isna().sum()"
      ],
      "metadata": {
        "colab": {
          "base_uri": "https://localhost:8080/"
        },
        "id": "VKts6m26jN4v",
        "outputId": "f7925ded-391e-4dae-8b44-e36f14e3be46"
      },
      "execution_count": null,
      "outputs": [
        {
          "output_type": "execute_result",
          "data": {
            "text/plain": [
              "0"
            ]
          },
          "metadata": {},
          "execution_count": 17
        }
      ]
    },
    {
      "cell_type": "code",
      "source": [
        "plot_numeric(df,\"T3\")"
      ],
      "metadata": {
        "colab": {
          "base_uri": "https://localhost:8080/",
          "height": 507
        },
        "id": "b42vR4R-YUbs",
        "outputId": "bf7b1946-8a62-4bfc-ea81-8264b6b0f7da"
      },
      "execution_count": null,
      "outputs": [
        {
          "output_type": "display_data",
          "data": {
            "text/plain": [
              "<Figure size 1000x500 with 2 Axes>"
            ],
            "image/png": "[encoded data removed]"
          },
          "metadata": {}
        }
      ]
    },
    {
      "cell_type": "markdown",
      "source": [
        "The distribution is normal, therefore the missing value will be imputed with the mean."
      ],
      "metadata": {
        "id": "effFnJoQWwcG"
      }
    },
    {
      "cell_type": "code",
      "source": [
        "df['T3'].fillna(df['T3'].mean(), inplace = True)\n",
        "df['T3'].isna().sum()"
      ],
      "metadata": {
        "colab": {
          "base_uri": "https://localhost:8080/"
        },
        "id": "06e6kxIvjU16",
        "outputId": "c87f0345-5eb1-40f2-a962-199a1df66f85"
      },
      "execution_count": null,
      "outputs": [
        {
          "output_type": "execute_result",
          "data": {
            "text/plain": [
              "0"
            ]
          },
          "metadata": {},
          "execution_count": 19
        }
      ]
    },
    {
      "cell_type": "code",
      "source": [
        "plot_numeric(df, \"TT4\")"
      ],
      "metadata": {
        "colab": {
          "base_uri": "https://localhost:8080/",
          "height": 507
        },
        "id": "Oyskl4lyYVDu",
        "outputId": "2e003c62-8340-4d48-e288-4a77d594f4aa"
      },
      "execution_count": null,
      "outputs": [
        {
          "output_type": "display_data",
          "data": {
            "text/plain": [
              "<Figure size 1000x500 with 2 Axes>"
            ],
            "image/png": "[encoded data removed]"
          },
          "metadata": {}
        }
      ]
    },
    {
      "cell_type": "markdown",
      "source": [
        "The distribution is slightly skewed, therefore the missing value will be imputed with the median since the median will be less sensitive to outliers than the mean."
      ],
      "metadata": {
        "id": "r2UmO3BdW6On"
      }
    },
    {
      "cell_type": "code",
      "source": [
        "df['TT4'].fillna(df['TT4'].median(), inplace = True)\n",
        "df['TT4'].isna().sum()"
      ],
      "metadata": {
        "colab": {
          "base_uri": "https://localhost:8080/"
        },
        "id": "pPNZFbcxjjxW",
        "outputId": "9a1d5b61-7156-4cd3-86bd-ad44c1a89f6f"
      },
      "execution_count": null,
      "outputs": [
        {
          "output_type": "execute_result",
          "data": {
            "text/plain": [
              "0"
            ]
          },
          "metadata": {},
          "execution_count": 21
        }
      ]
    },
    {
      "cell_type": "code",
      "source": [
        "plot_numeric(df,\"T4U\")"
      ],
      "metadata": {
        "colab": {
          "base_uri": "https://localhost:8080/",
          "height": 507
        },
        "id": "0YTz0xCTYVqd",
        "outputId": "96a1a039-630f-4a66-b764-422dca9d223d"
      },
      "execution_count": null,
      "outputs": [
        {
          "output_type": "display_data",
          "data": {
            "text/plain": [
              "<Figure size 1000x500 with 2 Axes>"
            ],
            "image/png": "[encoded data removed]"
          },
          "metadata": {}
        }
      ]
    },
    {
      "cell_type": "markdown",
      "source": [
        "The distribution is normal, therefore the missing value will be imputed with the mean."
      ],
      "metadata": {
        "id": "DDOYyqNiW8JS"
      }
    },
    {
      "cell_type": "code",
      "source": [
        "df['T4U'].fillna(df['T4U'].mean(), inplace = True)\n",
        "df['T4U'].isna().sum()"
      ],
      "metadata": {
        "colab": {
          "base_uri": "https://localhost:8080/"
        },
        "id": "uV0dL7vhjrvS",
        "outputId": "128e2ea4-7aa1-406e-f1cb-dccebc850e04"
      },
      "execution_count": null,
      "outputs": [
        {
          "output_type": "execute_result",
          "data": {
            "text/plain": [
              "0"
            ]
          },
          "metadata": {},
          "execution_count": 23
        }
      ]
    },
    {
      "cell_type": "code",
      "source": [
        "plot_numeric(df,\"FTI\")"
      ],
      "metadata": {
        "colab": {
          "base_uri": "https://localhost:8080/",
          "height": 507
        },
        "id": "POqKftslYaEE",
        "outputId": "db5ee93a-a71d-45f4-b785-a70b82b3b26c"
      },
      "execution_count": null,
      "outputs": [
        {
          "output_type": "display_data",
          "data": {
            "text/plain": [
              "<Figure size 1000x500 with 2 Axes>"
            ],
            "image/png": "[encoded data removed]"
          },
          "metadata": {}
        }
      ]
    },
    {
      "cell_type": "markdown",
      "source": [
        "The distribution is normal, therefore the missing value will be imputed with the mean."
      ],
      "metadata": {
        "id": "jLRGIjsqXG1w"
      }
    },
    {
      "cell_type": "code",
      "source": [
        "df['FTI'].fillna(df['FTI'].mean(), inplace = True)\n",
        "df['FTI'].isna().sum()"
      ],
      "metadata": {
        "colab": {
          "base_uri": "https://localhost:8080/"
        },
        "id": "uORdGwcOjzdn",
        "outputId": "123489f5-e0a6-4dc9-fdd3-6a487522556f"
      },
      "execution_count": null,
      "outputs": [
        {
          "output_type": "execute_result",
          "data": {
            "text/plain": [
              "0"
            ]
          },
          "metadata": {},
          "execution_count": 25
        }
      ]
    },
    {
      "cell_type": "markdown",
      "source": [
        "We will impute missing value in Sex column with the most frequent category."
      ],
      "metadata": {
        "id": "U6DrMZbAZYS2"
      }
    },
    {
      "cell_type": "code",
      "source": [
        "df['sex'].value_counts()"
      ],
      "metadata": {
        "colab": {
          "base_uri": "https://localhost:8080/"
        },
        "id": "3DAqByJwZi08",
        "outputId": "0f2ee58d-ed75-4b57-8292-03eb38a74831"
      },
      "execution_count": null,
      "outputs": [
        {
          "output_type": "execute_result",
          "data": {
            "text/plain": [
              "F    6064\n",
              "M    2792\n",
              "Name: sex, dtype: int64"
            ]
          },
          "metadata": {},
          "execution_count": 26
        }
      ]
    },
    {
      "cell_type": "code",
      "source": [
        "df['sex'].fillna('F', inplace = True)\n",
        "df['sex'].isna().sum()"
      ],
      "metadata": {
        "colab": {
          "base_uri": "https://localhost:8080/"
        },
        "id": "73o1Na9AWTvj",
        "outputId": "ac75803d-0e95-43be-8319-73be99c712e7"
      },
      "execution_count": null,
      "outputs": [
        {
          "output_type": "execute_result",
          "data": {
            "text/plain": [
              "0"
            ]
          },
          "metadata": {},
          "execution_count": 27
        }
      ]
    },
    {
      "cell_type": "code",
      "source": [
        "df.isna().sum()"
      ],
      "metadata": {
        "colab": {
          "base_uri": "https://localhost:8080/"
        },
        "id": "q-Yc1exML9Vz",
        "outputId": "bd61ad4a-126f-4337-8ccb-bcde3e63b53a"
      },
      "execution_count": null,
      "outputs": [
        {
          "output_type": "execute_result",
          "data": {
            "text/plain": [
              "age                    0\n",
              "sex                    0\n",
              "on_thyroxine           0\n",
              "query_on_thyroxine     0\n",
              "on_antithyroid_meds    0\n",
              "sick                   0\n",
              "pregnant               0\n",
              "thyroid_surgery        0\n",
              "I131_treatment         0\n",
              "query_hypothyroid      0\n",
              "query_hyperthyroid     0\n",
              "lithium                0\n",
              "goitre                 0\n",
              "tumor                  0\n",
              "hypopituitary          0\n",
              "psych                  0\n",
              "TSH                    0\n",
              "T3                     0\n",
              "TT4                    0\n",
              "T4U                    0\n",
              "FTI                    0\n",
              "target                 0\n",
              "dtype: int64"
            ]
          },
          "metadata": {},
          "execution_count": 28
        }
      ]
    },
    {
      "cell_type": "markdown",
      "source": [
        "6. Dataset balance:"
      ],
      "metadata": {
        "id": "B-e2ZdYDrSZ4"
      }
    },
    {
      "cell_type": "code",
      "source": [
        "df['target'].value_counts()"
      ],
      "metadata": {
        "colab": {
          "base_uri": "https://localhost:8080/"
        },
        "id": "QUxnFBtcrbwi",
        "outputId": "86ea1522-35b4-4d28-cadd-7b3ce1c5294a"
      },
      "execution_count": null,
      "outputs": [
        {
          "output_type": "execute_result",
          "data": {
            "text/plain": [
              "-      6763\n",
              "K       436\n",
              "G       359\n",
              "I       346\n",
              "F       233\n",
              "R       196\n",
              "A       147\n",
              "L       115\n",
              "M       111\n",
              "N       110\n",
              "S        83\n",
              "GK       49\n",
              "AK       46\n",
              "J        30\n",
              "B        21\n",
              "MK       16\n",
              "Q        14\n",
              "O        14\n",
              "C|I      12\n",
              "KJ       11\n",
              "GI       10\n",
              "H|K       8\n",
              "D         8\n",
              "FK        6\n",
              "C         6\n",
              "P         5\n",
              "MI        2\n",
              "LJ        1\n",
              "GKJ       1\n",
              "OI        1\n",
              "D|R       1\n",
              "E         1\n",
              "Name: target, dtype: int64"
            ]
          },
          "metadata": {},
          "execution_count": 29
        }
      ]
    },
    {
      "cell_type": "markdown",
      "source": [
        "#Correlation:"
      ],
      "metadata": {
        "id": "Ke1Fug5FQCF2"
      }
    },
    {
      "cell_type": "code",
      "source": [
        "df['target'].value_counts()"
      ],
      "metadata": {
        "id": "Sv0WKODeR_Xn",
        "colab": {
          "base_uri": "https://localhost:8080/"
        },
        "outputId": "6c270be5-34df-473a-cf08-70af0716be5a"
      },
      "execution_count": null,
      "outputs": [
        {
          "output_type": "execute_result",
          "data": {
            "text/plain": [
              "-      6763\n",
              "K       436\n",
              "G       359\n",
              "I       346\n",
              "F       233\n",
              "R       196\n",
              "A       147\n",
              "L       115\n",
              "M       111\n",
              "N       110\n",
              "S        83\n",
              "GK       49\n",
              "AK       46\n",
              "J        30\n",
              "B        21\n",
              "MK       16\n",
              "Q        14\n",
              "O        14\n",
              "C|I      12\n",
              "KJ       11\n",
              "GI       10\n",
              "H|K       8\n",
              "D         8\n",
              "FK        6\n",
              "C         6\n",
              "P         5\n",
              "MI        2\n",
              "LJ        1\n",
              "GKJ       1\n",
              "OI        1\n",
              "D|R       1\n",
              "E         1\n",
              "Name: target, dtype: int64"
            ]
          },
          "metadata": {},
          "execution_count": 30
        }
      ]
    },
    {
      "cell_type": "code",
      "source": [
        "from sklearn.preprocessing import LabelEncoder\n",
        "le = LabelEncoder()\n",
        "df['target']=le.fit_transform(df['target'])\n",
        "df['target'].value_counts()"
      ],
      "metadata": {
        "id": "ujGei-BsQKgc",
        "colab": {
          "base_uri": "https://localhost:8080/"
        },
        "outputId": "17720163-1c03-498b-a578-01cd717b5c24"
      },
      "execution_count": null,
      "outputs": [
        {
          "output_type": "execute_result",
          "data": {
            "text/plain": [
              "0     6763\n",
              "18     436\n",
              "11     359\n",
              "16     346\n",
              "9      233\n",
              "30     196\n",
              "1      147\n",
              "20     115\n",
              "22     111\n",
              "25     110\n",
              "31      83\n",
              "13      49\n",
              "2       46\n",
              "17      30\n",
              "3       21\n",
              "24      16\n",
              "29      14\n",
              "26      14\n",
              "5       12\n",
              "19      11\n",
              "12      10\n",
              "15       8\n",
              "6        8\n",
              "10       6\n",
              "4        6\n",
              "28       5\n",
              "23       2\n",
              "21       1\n",
              "14       1\n",
              "27       1\n",
              "7        1\n",
              "8        1\n",
              "Name: target, dtype: int64"
            ]
          },
          "metadata": {},
          "execution_count": 31
        }
      ]
    },
    {
      "cell_type": "code",
      "source": [
        "corr_matrix = df.corr()\n",
        "fig, ax = plt.subplots(figsize=(10, 10))\n",
        "ax = sns.heatmap(corr_matrix,annot=True,linewidths=0.5,fmt=\".2f\",cmap=\"YlGnBu\");\n",
        "bottom, top = ax.get_ylim()\n",
        "ax.set_ylim(bottom + 0.5, top - 0.5)"
      ],
      "metadata": {
        "id": "yrC-p75TSBLr",
        "colab": {
          "base_uri": "https://localhost:8080/",
          "height": 908
        },
        "outputId": "e6799f31-2013-409d-efbc-a5402dba2f6d"
      },
      "execution_count": null,
      "outputs": [
        {
          "output_type": "stream",
          "name": "stderr",
          "text": [
            "<ipython-input-32-0fd8e1be84df>:1: FutureWarning: The default value of numeric_only in DataFrame.corr is deprecated. In a future version, it will default to False. Select only valid columns or specify the value of numeric_only to silence this warning.\n",
            "  corr_matrix = df.corr()\n"
          ]
        },
        {
          "output_type": "execute_result",
          "data": {
            "text/plain": [
              "(7.5, -0.5)"
            ]
          },
          "metadata": {},
          "execution_count": 32
        },
        {
          "output_type": "display_data",
          "data": {
            "text/plain": [
              "<Figure size 1000x1000 with 2 Axes>"
            ],
            "image/png": "[encoded data removed]"
          },
          "metadata": {}
        }
      ]
    },
    {
      "cell_type": "code",
      "source": [
        "df.drop('target', axis=1).corrwith(df['target']).plot(kind='bar', grid=True, figsize=(12, 8),title=\"Numerical Features Correlation with target\");"
      ],
      "metadata": {
        "id": "x1pJ5MB1SFna",
        "colab": {
          "base_uri": "https://localhost:8080/",
          "height": 767
        },
        "outputId": "44d0904d-4cb2-4159-d409-4a0059fde0fc"
      },
      "execution_count": null,
      "outputs": [
        {
          "output_type": "stream",
          "name": "stderr",
          "text": [
            "<ipython-input-33-90a05cef27f3>:1: FutureWarning: The default value of numeric_only in DataFrame.corrwith is deprecated. In a future version, it will default to False. Select only valid columns or specify the value of numeric_only to silence this warning.\n",
            "  df.drop('target', axis=1).corrwith(df['target']).plot(kind='bar', grid=True, figsize=(12, 8),title=\"Numerical Features Correlation with target\");\n"
          ]
        },
        {
          "output_type": "display_data",
          "data": {
            "text/plain": [
              "<Figure size 1200x800 with 1 Axes>"
            ],
            "image/png": "[encoded data removed]"
          },
          "metadata": {}
        }
      ]
    },
    {
      "cell_type": "code",
      "source": [
        "!pip install dython\n",
        "import dython\n",
        "from dython.nominal import associations\n",
        "from dython.nominal import identify_nominal_columns\n",
        "\n",
        "categorical_features = identify_nominal_columns(df)\n",
        "\n",
        "associations(df,\n",
        "            nominal_columns='auto', numerical_columns=None, mark_columns=False, nom_nom_assoc='cramer', num_num_assoc='pearson',\n",
        "            ax=None, annot=True, fmt='.2f',cmap=None, sv_color='silver', cbar=True, vmax=1.0, vmin=None, plot=True,\n",
        "            compute_only=False, clustering=False, title=None, filename=None,\n",
        "            figsize=(18,18));"
      ],
      "metadata": {
        "colab": {
          "base_uri": "https://localhost:8080/",
          "height": 1000
        },
        "id": "t-fL3KSilggv",
        "outputId": "bda1d1b3-0aca-413f-d754-62052d312a5d"
      },
      "execution_count": null,
      "outputs": [
        {
          "output_type": "stream",
          "name": "stdout",
          "text": [
            "Collecting dython\n",
            "  Downloading dython-0.7.4-py3-none-any.whl (24 kB)\n",
            "Requirement already satisfied: numpy>=1.23.0 in /usr/local/lib/python3.10/dist-packages (from dython) (1.23.5)\n",
            "Requirement already satisfied: pandas>=1.4.2 in /usr/local/lib/python3.10/dist-packages (from dython) (1.5.3)\n",
            "Requirement already satisfied: seaborn>=0.12.0 in /usr/local/lib/python3.10/dist-packages (from dython) (0.12.2)\n",
            "Requirement already satisfied: scipy>=1.7.1 in /usr/local/lib/python3.10/dist-packages (from dython) (1.11.3)\n",
            "Requirement already satisfied: matplotlib>=3.5.3 in /usr/local/lib/python3.10/dist-packages (from dython) (3.7.1)\n",
            "Requirement already satisfied: scikit-learn>=0.24.2 in /usr/local/lib/python3.10/dist-packages (from dython) (1.2.2)\n",
            "Collecting scikit-plot>=0.3.7 (from dython)\n",
            "  Downloading scikit_plot-0.3.7-py3-none-any.whl (33 kB)\n",
            "Requirement already satisfied: psutil>=5.9.1 in /usr/local/lib/python3.10/dist-packages (from dython) (5.9.5)\n",
            "Requirement already satisfied: contourpy>=1.0.1 in /usr/local/lib/python3.10/dist-packages (from matplotlib>=3.5.3->dython) (1.1.1)\n",
            "Requirement already satisfied: cycler>=0.10 in /usr/local/lib/python3.10/dist-packages (from matplotlib>=3.5.3->dython) (0.12.1)\n",
            "Requirement already satisfied: fonttools>=4.22.0 in /usr/local/lib/python3.10/dist-packages (from matplotlib>=3.5.3->dython) (4.43.1)\n",
            "Requirement already satisfied: kiwisolver>=1.0.1 in /usr/local/lib/python3.10/dist-packages (from matplotlib>=3.5.3->dython) (1.4.5)\n",
            "Requirement already satisfied: packaging>=20.0 in /usr/local/lib/python3.10/dist-packages (from matplotlib>=3.5.3->dython) (23.2)\n",
            "Requirement already satisfied: pillow>=6.2.0 in /usr/local/lib/python3.10/dist-packages (from matplotlib>=3.5.3->dython) (9.4.0)\n",
            "Requirement already satisfied: pyparsing>=2.3.1 in /usr/local/lib/python3.10/dist-packages (from matplotlib>=3.5.3->dython) (3.1.1)\n",
            "Requirement already satisfied: python-dateutil>=2.7 in /usr/local/lib/python3.10/dist-packages (from matplotlib>=3.5.3->dython) (2.8.2)\n",
            "Requirement already satisfied: pytz>=2020.1 in /usr/local/lib/python3.10/dist-packages (from pandas>=1.4.2->dython) (2023.3.post1)\n",
            "Requirement already satisfied: joblib>=1.1.1 in /usr/local/lib/python3.10/dist-packages (from scikit-learn>=0.24.2->dython) (1.3.2)\n",
            "Requirement already satisfied: threadpoolctl>=2.0.0 in /usr/local/lib/python3.10/dist-packages (from scikit-learn>=0.24.2->dython) (3.2.0)\n",
            "Requirement already satisfied: six>=1.5 in /usr/local/lib/python3.10/dist-packages (from python-dateutil>=2.7->matplotlib>=3.5.3->dython) (1.16.0)\n",
            "Installing collected packages: scikit-plot, dython\n",
            "Successfully installed dython-0.7.4 scikit-plot-0.3.7\n"
          ]
        },
        {
          "output_type": "display_data",
          "data": {
            "text/plain": [
              "<Figure size 1800x1800 with 2 Axes>"
            ],
            "image/png": "[encoded data removed]"
          },
          "metadata": {}
        }
      ]
    },
    {
      "cell_type": "markdown",
      "source": [
        "Immediately we confirm our hypothesis that the Hormone tests are the most helpful in our aim to predict target diagnosis. Surprising though that almost no other of our attributes do a good job at predicting our target."
      ],
      "metadata": {
        "id": "GTUVPg0ArcQs"
      }
    }
  ]
}